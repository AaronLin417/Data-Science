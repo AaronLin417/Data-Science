{
  "nbformat": 4,
  "nbformat_minor": 0,
  "metadata": {
    "colab": {
      "name": "04-Visualisation-with-matplotlib.ipynb",
      "provenance": [],
      "include_colab_link": true
    },
    "kernelspec": {
      "name": "python3",
      "display_name": "Python 3"
    }
  },
  "cells": [
    {
      "cell_type": "markdown",
      "metadata": {
        "id": "view-in-github",
        "colab_type": "text"
      },
      "source": [
        "<a href=\"https://colab.research.google.com/github/AaronLin417/Data-Science/blob/master/Homework/04_Visualisation_with_matplotlib.ipynb\" target=\"_parent\"><img src=\"https://colab.research.google.com/assets/colab-badge.svg\" alt=\"Open In Colab\"/></a>"
      ]
    },
    {
      "cell_type": "markdown",
      "metadata": {
        "id": "IDmnCEh37H2m",
        "colab_type": "text"
      },
      "source": [
        "#Visualisation with matplotlib"
      ]
    },
    {
      "cell_type": "markdown",
      "metadata": {
        "id": "amj0CTVI7RJa",
        "colab_type": "text"
      },
      "source": [
        "##Creating scatter plots"
      ]
    },
    {
      "cell_type": "code",
      "metadata": {
        "id": "tcTaEcQWrKf6",
        "colab_type": "code",
        "colab": {}
      },
      "source": [
        "xs = range(1, 25)\n",
        "ys = [1 / x for x in xs]\n",
        "zs = [1 / (25 - x) for x in xs]"
      ],
      "execution_count": 0,
      "outputs": []
    },
    {
      "cell_type": "markdown",
      "metadata": {
        "id": "JqNFPbXB7k5s",
        "colab_type": "text"
      },
      "source": [
        "Running a command to tell it to display the plots directly in the notebook"
      ]
    },
    {
      "cell_type": "code",
      "metadata": {
        "id": "nAzfQQkz7meO",
        "colab_type": "code",
        "colab": {}
      },
      "source": [
        "%matplotlib inline"
      ],
      "execution_count": 0,
      "outputs": []
    },
    {
      "cell_type": "markdown",
      "metadata": {
        "id": "5OpvnCUS7zQD",
        "colab_type": "text"
      },
      "source": [
        "Using matplotlib to plot scatter plot"
      ]
    },
    {
      "cell_type": "code",
      "metadata": {
        "id": "C21td_VG74xA",
        "colab_type": "code",
        "colab": {
          "base_uri": "https://localhost:8080/",
          "height": 265
        },
        "outputId": "96d49de0-f9b9-4e76-910e-8fff684cf550"
      },
      "source": [
        "import matplotlib.pyplot as plt\n",
        "plt.scatter(xs, ys);"
      ],
      "execution_count": 3,
      "outputs": [
        {
          "output_type": "display_data",
          "data": {
            "image/png": "[encoded data removed]",
            "text/plain": [
              "<Figure size 432x288 with 1 Axes>"
            ]
          },
          "metadata": {
            "tags": []
          }
        }
      ]
    },
    {
      "cell_type": "markdown",
      "metadata": {
        "id": "Lkit3pGz8Lw1",
        "colab_type": "text"
      },
      "source": [
        "Combining two sets of plots"
      ]
    },
    {
      "cell_type": "code",
      "metadata": {
        "id": "UTQnyBr37-3r",
        "colab_type": "code",
        "colab": {
          "base_uri": "https://localhost:8080/",
          "height": 265
        },
        "outputId": "b70e03f9-34ca-4800-d5ab-dce53b15be10"
      },
      "source": [
        "plt.scatter(xs, ys)\n",
        "plt.scatter(xs, zs);"
      ],
      "execution_count": 4,
      "outputs": [
        {
          "output_type": "display_data",
          "data": {
            "image/png": "[encoded data removed]",
            "text/plain": [
              "<Figure size 432x288 with 1 Axes>"
            ]
          },
          "metadata": {
            "tags": []
          }
        }
      ]
    },
    {
      "cell_type": "markdown",
      "metadata": {
        "id": "nHd0faRY8fR1",
        "colab_type": "text"
      },
      "source": [
        "Adding a legend to our plot (which can include LaTeX) as well as axes labels and a title:"
      ]
    },
    {
      "cell_type": "code",
      "metadata": {
        "id": "MPGd0UHk8mEm",
        "colab_type": "code",
        "colab": {
          "base_uri": "https://localhost:8080/",
          "height": 295
        },
        "outputId": "2b9a07f5-b387-47af-a82c-0566358563f5"
      },
      "source": [
        "plt.scatter(xs, ys, label=\"$y=\\\\frac{1}{x}$\")\n",
        "plt.scatter(xs, zs, label=\"$y=\\\\frac{1}{25 - x}$\")\n",
        "\n",
        "plt.xlabel(\"$x$\")\n",
        "plt.ylabel(\"Value\")\n",
        "plt.title(\"My scatter plot\")\n",
        "\n",
        "plt.legend();"
      ],
      "execution_count": 5,
      "outputs": [
        {
          "output_type": "display_data",
          "data": {
            "image/png": "[encoded data removed]",
            "text/plain": [
              "<Figure size 432x288 with 1 Axes>"
            ]
          },
          "metadata": {
            "tags": []
          }
        }
      ]
    },
    {
      "cell_type": "code",
      "metadata": {
        "id": "EpZFY9ya85jq",
        "colab_type": "code",
        "colab": {
          "base_uri": "https://localhost:8080/",
          "height": 279
        },
        "outputId": "0d9dcb25-3eed-4e20-c2ee-58d4891c0d40"
      },
      "source": [
        "#Exercise\n",
        "xs = range(200)\n",
        "ys = [(100 - x) ** 2 for x in xs]\n",
        "plt.scatter(xs, ys, label=\"$y={(100-x)^2}$\")\n",
        "\n",
        "plt.xlabel(\"$x$\")\n",
        "plt.ylabel(\"$y$\")\n",
        "\n",
        "plt.legend();"
      ],
      "execution_count": 6,
      "outputs": [
        {
          "output_type": "display_data",
          "data": {
            "image/png": "[encoded data removed]",
            "text/plain": [
              "<Figure size 432x288 with 1 Axes>"
            ]
          },
          "metadata": {
            "tags": []
          }
        }
      ]
    },
    {
      "cell_type": "markdown",
      "metadata": {
        "id": "jnWQh_2V_y3Q",
        "colab_type": "text"
      },
      "source": [
        "##Creating histograms"
      ]
    },
    {
      "cell_type": "markdown",
      "metadata": {
        "id": "XTpF5swG_4XD",
        "colab_type": "text"
      },
      "source": [
        "Creating random data sampled from the exponential distribution to use for a histogram"
      ]
    },
    {
      "cell_type": "code",
      "metadata": {
        "id": "J6Ad9paF__8g",
        "colab_type": "code",
        "colab": {}
      },
      "source": [
        "import random  # Allows us to create random data\n",
        "number_of_data_points = 50000\n",
        "data = [random.expovariate(lambd=.5) for _ in range(number_of_data_points)]"
      ],
      "execution_count": 0,
      "outputs": []
    },
    {
      "cell_type": "code",
      "metadata": {
        "id": "ObaShAZcACd6",
        "colab_type": "code",
        "colab": {
          "base_uri": "https://localhost:8080/",
          "height": 265
        },
        "outputId": "6f115ffb-2572-4f2e-faf4-797065df5c6c"
      },
      "source": [
        "plt.hist(data);"
      ],
      "execution_count": 8,
      "outputs": [
        {
          "output_type": "display_data",
          "data": {
            "image/png": "[encoded data removed]",
            "text/plain": [
              "<Figure size 432x288 with 1 Axes>"
            ]
          },
          "metadata": {
            "tags": []
          }
        }
      ]
    },
    {
      "cell_type": "markdown",
      "metadata": {
        "id": "JDKOt-VMAPF-",
        "colab_type": "text"
      },
      "source": [
        "Changing the number of bins and specifing that we would like the plot to be normalised (so as to show probabilities and not frequencies):"
      ]
    },
    {
      "cell_type": "code",
      "metadata": {
        "id": "-AkcAPiAANGK",
        "colab_type": "code",
        "colab": {
          "base_uri": "https://localhost:8080/",
          "height": 265
        },
        "outputId": "9ffcaa6f-33d1-4683-a2b2-0faa1dfce25a"
      },
      "source": [
        "plt.hist(data, bins=35, density=True);"
      ],
      "execution_count": 9,
      "outputs": [
        {
          "output_type": "display_data",
          "data": {
            "image/png": "[encoded data removed]",
            "text/plain": [
              "<Figure size 432x288 with 1 Axes>"
            ]
          },
          "metadata": {
            "tags": []
          }
        }
      ]
    },
    {
      "cell_type": "markdown",
      "metadata": {
        "id": "lXqbQixQAhPZ",
        "colab_type": "text"
      },
      "source": [
        " Including a line plot of that on the plot"
      ]
    },
    {
      "cell_type": "code",
      "metadata": {
        "id": "49cTs2S6AnBM",
        "colab_type": "code",
        "colab": {
          "base_uri": "https://localhost:8080/",
          "height": 265
        },
        "outputId": "653abb8f-5c92-43c1-9af2-c6652aa9a020"
      },
      "source": [
        "import math\n",
        "\n",
        "lambd = 0.5\n",
        "values = range(16)\n",
        "fs = [lambd * math.exp(- lambd * x ) for x in values]\n",
        "\n",
        "plt.hist(data, bins=35, density=True)\n",
        "plt.plot(values, fs);"
      ],
      "execution_count": 10,
      "outputs": [
        {
          "output_type": "display_data",
          "data": {
            "image/png": "[encoded data removed]",
            "text/plain": [
              "<Figure size 432x288 with 1 Axes>"
            ]
          },
          "metadata": {
            "tags": []
          }
        }
      ]
    },
    {
      "cell_type": "markdown",
      "metadata": {
        "id": "tKZijW1aAs9q",
        "colab_type": "text"
      },
      "source": [
        "Saving this figure and output it to a file:"
      ]
    },
    {
      "cell_type": "code",
      "metadata": {
        "id": "GYA5PargArM3",
        "colab_type": "code",
        "colab": {
          "base_uri": "https://localhost:8080/",
          "height": 265
        },
        "outputId": "6ec5c136-7fbb-45b5-ee8f-68e650dec3c2"
      },
      "source": [
        "plt.hist(data, bins=35, density=True)\n",
        "plt.plot(values, fs)\n",
        "plt.savefig(\"the-exponential-distribution.pdf\")\n",
        "#Change the format of the saved file by changing the file format name (.pdf, .png, .svg etc)"
      ],
      "execution_count": 11,
      "outputs": [
        {
          "output_type": "display_data",
          "data": {
            "image/png": "[encoded data removed]",
            "text/plain": [
              "<Figure size 432x288 with 1 Axes>"
            ]
          },
          "metadata": {
            "tags": []
          }
        }
      ]
    },
    {
      "cell_type": "code",
      "metadata": {
        "id": "CaY_txyoBfdl",
        "colab_type": "code",
        "colab": {
          "base_uri": "https://localhost:8080/",
          "height": 295
        },
        "outputId": "e02bf7e7-01ad-484a-80a0-4a654ca7d6d7"
      },
      "source": [
        "#Exercise\n",
        "plt.hist(data, bins=35, density=True)\n",
        "\n",
        "plt.xlabel(\"$x$\")\n",
        "plt.ylabel(\"Probabilities\")\n",
        "plt.title(\"The exponential distribution\")\n",
        "\n",
        "plt.plot(values, fs);\n",
        "plt.plot(fs, label=\"$line plot$\")\n",
        "plt.legend();"
      ],
      "execution_count": 12,
      "outputs": [
        {
          "output_type": "display_data",
          "data": {
            "image/png": "[encoded data removed]",
            "text/plain": [
              "<Figure size 432x288 with 1 Axes>"
            ]
          },
          "metadata": {
            "tags": []
          }
        }
      ]
    },
    {
      "cell_type": "code",
      "metadata": {
        "id": "g2FBOIivDvG1",
        "colab_type": "code",
        "colab": {
          "base_uri": "https://localhost:8080/",
          "height": 313
        },
        "outputId": "e21c109a-f61e-49b6-9a50-874e21557dca"
      },
      "source": [
        "#Exercise\n",
        "data = [random.normalvariate(5,0.7) for _ in range(number_of_data_points)]\n",
        "plt.hist(data, bins=35, density=True);\n",
        "\n",
        "plt.xlabel(\"$x$\")\n",
        "plt.ylabel(\"Probabilities\")\n",
        "plt.title(\"The normal distribution\")"
      ],
      "execution_count": 13,
      "outputs": [
        {
          "output_type": "execute_result",
          "data": {
            "text/plain": [
              "Text(0.5, 1.0, 'The normal distribution')"
            ]
          },
          "metadata": {
            "tags": []
          },
          "execution_count": 13
        },
        {
          "output_type": "display_data",
          "data": {
            "image/png": "[encoded data removed]",
            "text/plain": [
              "<Figure size 432x288 with 1 Axes>"
            ]
          },
          "metadata": {
            "tags": []
          }
        }
      ]
    },
    {
      "cell_type": "markdown",
      "metadata": {
        "id": "ngEOIKbUFjNU",
        "colab_type": "text"
      },
      "source": [
        "※Use \"random.normalvariate(mu, sigma)\" where\n",
        "\"mu\" is the mean, and \"sigma\" is the standard deviation."
      ]
    }
  ]
}
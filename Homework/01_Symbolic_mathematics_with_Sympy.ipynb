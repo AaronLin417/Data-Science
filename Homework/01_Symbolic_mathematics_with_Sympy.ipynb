{
  "nbformat": 4,
  "nbformat_minor": 0,
  "metadata": {
    "colab": {
      "name": "01-Symbolic-mathematics-with-Sympy.ipynb",
      "provenance": []
    },
    "kernelspec": {
      "name": "python3",
      "display_name": "Python 3"
    }
  },
  "cells": [
    {
      "cell_type": "markdown",
      "metadata": {
        "id": "fGF2RcsPvy2l",
        "colab_type": "text"
      },
      "source": [
        "# Symbolic mathematics with Sympy\n",
        "https://github.com/drvinceknight/Python-Mathematics-Handbook/blob/ee91644ab2028acb2f4c42839cc335aca20229c5/01-Symbolic-mathematics-with-Sympy.ipynb"
      ]
    },
    {
      "cell_type": "markdown",
      "metadata": {
        "id": "pxK6oeXFz1KZ",
        "colab_type": "text"
      },
      "source": [
        "##Manipulating symbolic expressions¶"
      ]
    },
    {
      "cell_type": "code",
      "metadata": {
        "id": "cZ84RYQUv_8s",
        "colab_type": "code",
        "colab": {}
      },
      "source": [
        "import sympy as sym"
      ],
      "execution_count": 0,
      "outputs": []
    },
    {
      "cell_type": "markdown",
      "metadata": {
        "id": "C9yIpcUCwqhy",
        "colab_type": "text"
      },
      "source": [
        "Creating symbolic variables"
      ]
    },
    {
      "cell_type": "code",
      "metadata": {
        "id": "1uZOHsUKwKGb",
        "colab_type": "code",
        "colab": {}
      },
      "source": [
        "x = sym.symbols('x')\n",
        "a, b = sym.symbols('a, b')"
      ],
      "execution_count": 0,
      "outputs": []
    },
    {
      "cell_type": "markdown",
      "metadata": {
        "id": "vobvX4ADwh-b",
        "colab_type": "text"
      },
      "source": [
        "Creating expression"
      ]
    },
    {
      "cell_type": "code",
      "metadata": {
        "id": "hw6Pt7UpwesD",
        "colab_type": "code",
        "outputId": "075adbe8-5af0-4ff9-fa97-98f1522f56df",
        "colab": {
          "base_uri": "https://localhost:8080/",
          "height": 34
        }
      },
      "source": [
        "expr = (a + b) ** 6 \n",
        "expr"
      ],
      "execution_count": 14,
      "outputs": [
        {
          "output_type": "execute_result",
          "data": {
            "image/png": "[encoded data removed]",
            "text/latex": "$$\\left(a + b\\right)^{6}$$",
            "text/plain": [
              "       6\n",
              "(a + b) "
            ]
          },
          "metadata": {
            "tags": []
          },
          "execution_count": 14
        }
      ]
    },
    {
      "cell_type": "code",
      "metadata": {
        "id": "5TBLw2T9w4Xf",
        "colab_type": "code",
        "outputId": "a001d141-6f32-490f-8b84-872e4798fadb",
        "colab": {
          "base_uri": "https://localhost:8080/",
          "height": 34
        }
      },
      "source": [
        "#use LaTeX so that the output looks nice\n",
        "sym.init_printing()\n",
        "expr"
      ],
      "execution_count": 15,
      "outputs": [
        {
          "output_type": "execute_result",
          "data": {
            "image/png": "[encoded data removed]",
            "text/latex": "$$\\left(a + b\\right)^{6}$$",
            "text/plain": [
              "       6\n",
              "(a + b) "
            ]
          },
          "metadata": {
            "tags": []
          },
          "execution_count": 15
        }
      ]
    },
    {
      "cell_type": "markdown",
      "metadata": {
        "id": "Z6GUNNTfxaqV",
        "colab_type": "text"
      },
      "source": [
        "Expanding expression"
      ]
    },
    {
      "cell_type": "code",
      "metadata": {
        "id": "mLobL_SSxczK",
        "colab_type": "code",
        "colab": {
          "base_uri": "https://localhost:8080/",
          "height": 34
        },
        "outputId": "7991f17f-4198-4fa9-dcc1-3fda5e52b38e"
      },
      "source": [
        "expr.expand()"
      ],
      "execution_count": 16,
      "outputs": [
        {
          "output_type": "execute_result",
          "data": {
            "image/png": "[encoded data removed]",
            "text/latex": "$$a^{6} + 6 a^{5} b + 15 a^{4} b^{2} + 20 a^{3} b^{3} + 15 a^{2} b^{4} + 6 a b^{5} + b^{6}$$",
            "text/plain": [
              " 6      5         4  2       3  3       2  4        5    6\n",
              "a  + 6⋅a ⋅b + 15⋅a ⋅b  + 20⋅a ⋅b  + 15⋅a ⋅b  + 6⋅a⋅b  + b "
            ]
          },
          "metadata": {
            "tags": []
          },
          "execution_count": 16
        }
      ]
    },
    {
      "cell_type": "code",
      "metadata": {
        "id": "3K8wgKZsxovc",
        "colab_type": "code",
        "colab": {
          "base_uri": "https://localhost:8080/",
          "height": 34
        },
        "outputId": "6b4d407c-c364-4418-99b6-9e58e714be05"
      },
      "source": [
        "#get Sympy to produce the LaTeX code for future use\n",
        "sym.latex(expr.expand())"
      ],
      "execution_count": 17,
      "outputs": [
        {
          "output_type": "execute_result",
          "data": {
            "text/plain": [
              "'a^{6} + 6 a^{5} b + 15 a^{4} b^{2} + 20 a^{3} b^{3} + 15 a^{2} b^{4} + 6 a b^{5} + b^{6}'"
            ]
          },
          "metadata": {
            "tags": []
          },
          "execution_count": 17
        }
      ]
    },
    {
      "cell_type": "code",
      "metadata": {
        "id": "oEL39KvVyvnD",
        "colab_type": "code",
        "colab": {
          "base_uri": "https://localhost:8080/",
          "height": 34
        },
        "outputId": "a12d48ce-e487-4894-f508-f9e8570396a7"
      },
      "source": [
        "#Exercise\n",
        "Exer1 = ( a - b ) ** 2\n",
        "Exer1.expand()"
      ],
      "execution_count": 28,
      "outputs": [
        {
          "output_type": "execute_result",
          "data": {
            "image/png": "[encoded data removed]",
            "text/latex": "$$a^{2} - 2 a b + b^{2}$$",
            "text/plain": [
              " 2            2\n",
              "a  - 2⋅a⋅b + b "
            ]
          },
          "metadata": {
            "tags": []
          },
          "execution_count": 28
        }
      ]
    },
    {
      "cell_type": "code",
      "metadata": {
        "id": "u93_69Cjzd6X",
        "colab_type": "code",
        "colab": {
          "base_uri": "https://localhost:8080/",
          "height": 34
        },
        "outputId": "fe6b6bd0-6129-43a2-c227-256d6fc07d89"
      },
      "source": [
        "#Exercise\n",
        "Exer2 = a ** 2 - b ** 2\n",
        "Exer2.factor()"
      ],
      "execution_count": 29,
      "outputs": [
        {
          "output_type": "execute_result",
          "data": {
            "image/png": "[encoded data removed]",
            "text/latex": "$$\\left(a - b\\right) \\left(a + b\\right)$$",
            "text/plain": [
              "(a - b)⋅(a + b)"
            ]
          },
          "metadata": {
            "tags": []
          },
          "execution_count": 29
        }
      ]
    },
    {
      "cell_type": "markdown",
      "metadata": {
        "id": "B0_TBMpIzve0",
        "colab_type": "text"
      },
      "source": [
        "##Solving symbolic equations"
      ]
    },
    {
      "cell_type": "code",
      "metadata": {
        "id": "rdGnoEN90FIq",
        "colab_type": "code",
        "colab": {}
      },
      "source": [
        "a, b, c, x = sym.symbols('a, b, c, x')"
      ],
      "execution_count": 0,
      "outputs": []
    },
    {
      "cell_type": "code",
      "metadata": {
        "id": "EZxF6YMl0ISR",
        "colab_type": "code",
        "colab": {
          "base_uri": "https://localhost:8080/",
          "height": 34
        },
        "outputId": "478f4a31-27f5-49bf-8445-54a8779098aa"
      },
      "source": [
        "sym.solveset(a * x ** 2 + b * x + c, x)"
      ],
      "execution_count": 26,
      "outputs": [
        {
          "output_type": "execute_result",
          "data": {
            "image/png": "[encoded data removed]",
            "text/latex": "$$\\left\\{- \\frac{b}{2 a} - \\frac{1}{2 a} \\sqrt{- 4 a c + b^{2}}, - \\frac{b}{2 a} + \\frac{1}{2 a} \\sqrt{- 4 a c + b^{2}}\\right\\}$$",
            "text/plain": [
              "⎧           _____________             _____________⎫\n",
              "⎪          ╱           2             ╱           2 ⎪\n",
              "⎨   b    ╲╱  -4⋅a⋅c + b       b    ╲╱  -4⋅a⋅c + b  ⎬\n",
              "⎪- ─── - ────────────────, - ─── + ────────────────⎪\n",
              "⎩  2⋅a         2⋅a           2⋅a         2⋅a       ⎭"
            ]
          },
          "metadata": {
            "tags": []
          },
          "execution_count": 26
        }
      ]
    },
    {
      "cell_type": "code",
      "metadata": {
        "id": "c54iZTHq0ZSE",
        "colab_type": "code",
        "colab": {
          "base_uri": "https://localhost:8080/",
          "height": 102
        },
        "outputId": "0e81a785-82c5-4567-ee05-b55c5ed16538"
      },
      "source": [
        "#Exercise\n",
        "a, b, c, d, x = sym.symbols('a, b, c, d, x')\n",
        "sym.solveset(a * x ** 3 + b * x ** 2 + c ** 1 + d , x )"
      ],
      "execution_count": 31,
      "outputs": [
        {
          "output_type": "execute_result",
          "data": {
            "image/png": "[encoded data removed]",
            "text/latex": "$$\\left\\{- \\frac{1}{3} \\left(- \\frac{1}{2} - \\frac{\\sqrt{3} i}{2}\\right) \\sqrt[3]{\\frac{1}{2} \\sqrt{\\left(\\frac{27}{a} \\left(c + d\\right) + \\frac{2 b^{3}}{a^{3}}\\right)^{2} - \\frac{4 b^{6}}{a^{6}}} + \\frac{27 \\left(c + d\\right)}{2 a} + \\frac{b^{3}}{a^{3}}} - \\frac{b}{3 a} - \\frac{b^{2}}{3 a^{2} \\left(- \\frac{1}{2} - \\frac{\\sqrt{3} i}{2}\\right) \\sqrt[3]{\\frac{1}{2} \\sqrt{\\left(\\frac{27}{a} \\left(c + d\\right) + \\frac{2 b^{3}}{a^{3}}\\right)^{2} - \\frac{4 b^{6}}{a^{6}}} + \\frac{27 \\left(c + d\\right)}{2 a} + \\frac{b^{3}}{a^{3}}}}, - \\frac{1}{3} \\left(- \\frac{1}{2} + \\frac{\\sqrt{3} i}{2}\\right) \\sqrt[3]{\\frac{1}{2} \\sqrt{\\left(\\frac{27}{a} \\left(c + d\\right) + \\frac{2 b^{3}}{a^{3}}\\right)^{2} - \\frac{4 b^{6}}{a^{6}}} + \\frac{27 \\left(c + d\\right)}{2 a} + \\frac{b^{3}}{a^{3}}} - \\frac{b}{3 a} - \\frac{b^{2}}{3 a^{2} \\left(- \\frac{1}{2} + \\frac{\\sqrt{3} i}{2}\\right) \\sqrt[3]{\\frac{1}{2} \\sqrt{\\left(\\frac{27}{a} \\left(c + d\\right) + \\frac{2 b^{3}}{a^{3}}\\right)^{2} - \\frac{4 b^{6}}{a^{6}}} + \\frac{27 \\left(c + d\\right)}{2 a} + \\frac{b^{3}}{a^{3}}}}, - \\frac{1}{3} \\sqrt[3]{\\frac{1}{2} \\sqrt{\\left(\\frac{27}{a} \\left(c + d\\right) + \\frac{2 b^{3}}{a^{3}}\\right)^{2} - \\frac{4 b^{6}}{a^{6}}} + \\frac{27 \\left(c + d\\right)}{2 a} + \\frac{b^{3}}{a^{3}}} - \\frac{b}{3 a} - \\frac{b^{2}}{3 a^{2} \\sqrt[3]{\\frac{1}{2} \\sqrt{\\left(\\frac{27}{a} \\left(c + d\\right) + \\frac{2 b^{3}}{a^{3}}\\right)^{2} - \\frac{4 b^{6}}{a^{6}}} + \\frac{27 \\left(c + d\\right)}{2 a} + \\frac{b^{3}}{a^{3}}}}\\right\\}$$",
            "text/plain": [
              "⎧                          ___________________________________________________\n",
              "⎪                         ╱        _____________________________              \n",
              "⎪                        ╱        ╱                    2                      \n",
              "⎪                       ╱        ╱  ⎛                3⎞       6               \n",
              "⎪                      ╱        ╱   ⎜27⋅(c + d)   2⋅b ⎟    4⋅b                \n",
              "⎪                     ╱        ╱    ⎜────────── + ────⎟  - ────               \n",
              "⎪                    ╱        ╱     ⎜    a          3 ⎟      6                \n",
              "⎪  ⎛  1   √3⋅ⅈ⎞     ╱       ╲╱      ⎝              a  ⎠     a      27⋅(c + d) \n",
              "⎪  ⎜- ─ - ────⎟⋅   ╱        ──────────────────────────────────── + ────────── \n",
              "⎪  ⎝  2    2  ⎠ 3 ╱                          2                        2⋅a     \n",
              "⎪               ╲╱                                                            \n",
              "⎨- ───────────────────────────────────────────────────────────────────────────\n",
              "⎪                                         3                                   \n",
              "⎪                                                                             \n",
              "⎪                                                                             \n",
              "⎪                                                                             \n",
              "⎪                                                                             \n",
              "⎪                                                                             \n",
              "⎪                                                                             \n",
              "⎪                                                                             \n",
              "⎪                                                                             \n",
              "⎪                                                                             \n",
              "⎩                                                                             \n",
              "\n",
              "_____                                                                         \n",
              "                                                                              \n",
              "                                                                              \n",
              "                                                                              \n",
              "                                                                              \n",
              "                                                                              \n",
              "   3                                                                          \n",
              "  b                                                                           \n",
              "+ ──                                                                          \n",
              "   3                                                     2                    \n",
              "  a      b                                              b                     \n",
              "───── - ─── - ────────────────────────────────────────────────────────────────\n",
              "        3⋅a                                ___________________________________\n",
              "                                          ╱        ___________________________\n",
              "                                         ╱        ╱                    2      \n",
              "                                        ╱        ╱  ⎛                3⎞       \n",
              "                                       ╱        ╱   ⎜27⋅(c + d)   2⋅b ⎟    4⋅b\n",
              "                                      ╱        ╱    ⎜────────── + ────⎟  - ───\n",
              "                                     ╱        ╱     ⎜    a          3 ⎟      6\n",
              "                 2 ⎛  1   √3⋅ⅈ⎞     ╱       ╲╱      ⎝              a  ⎠     a \n",
              "              3⋅a ⋅⎜- ─ - ────⎟⋅   ╱        ──────────────────────────────────\n",
              "                   ⎝  2    2  ⎠ 3 ╱                          2                \n",
              "                                ╲╱                                            \n",
              "\n",
              "                                                 _____________________________\n",
              "                                                ╱        _____________________\n",
              "                                               ╱        ╱                    2\n",
              "                                              ╱        ╱  ⎛                3⎞ \n",
              "                                             ╱        ╱   ⎜27⋅(c + d)   2⋅b ⎟ \n",
              "                                            ╱        ╱    ⎜────────── + ────⎟ \n",
              "                                           ╱        ╱     ⎜    a          3 ⎟ \n",
              "                         ⎛  1   √3⋅ⅈ⎞     ╱       ╲╱      ⎝              a  ⎠ \n",
              "                         ⎜- ─ + ────⎟⋅   ╱        ────────────────────────────\n",
              "                         ⎝  2    2  ⎠ 3 ╱                          2          \n",
              "                                      ╲╱                                      \n",
              "─────────────────────, - ─────────────────────────────────────────────────────\n",
              "_____________________                                           3             \n",
              "__                                                                            \n",
              "                                                                              \n",
              "6                                                                             \n",
              "                                                                              \n",
              "─                                                                             \n",
              "                   3                                                          \n",
              "     27⋅(c + d)   b                                                           \n",
              "── + ────────── + ──                                                          \n",
              "        2⋅a        3                                                          \n",
              "                  a                                                           \n",
              "\n",
              "___________________________                                                   \n",
              "________                                                                      \n",
              "                                                                              \n",
              "      6                                                                       \n",
              "   4⋅b                                                                        \n",
              " - ────                                                                       \n",
              "     6                   3                                                    \n",
              "    a      27⋅(c + d)   b                                                     \n",
              "──────── + ────────── + ──                                                    \n",
              "              2⋅a        3                                                    \n",
              "                        a      b                                              \n",
              "─────────────────────────── - ─── - ──────────────────────────────────────────\n",
              "                              3⋅a                                _____________\n",
              "                                                                ╱        _____\n",
              "                                                               ╱        ╱     \n",
              "                                                              ╱        ╱  ⎛   \n",
              "                                                             ╱        ╱   ⎜27⋅\n",
              "                                                            ╱        ╱    ⎜───\n",
              "                                                           ╱        ╱     ⎜   \n",
              "                                       2 ⎛  1   √3⋅ⅈ⎞     ╱       ╲╱      ⎝   \n",
              "                                    3⋅a ⋅⎜- ─ + ────⎟⋅   ╱        ────────────\n",
              "                                         ⎝  2    2  ⎠ 3 ╱                     \n",
              "                                                      ╲╱                      \n",
              "\n",
              "                                                          ____________________\n",
              "                                                         ╱        ____________\n",
              "                                                        ╱        ╱            \n",
              "                                                       ╱        ╱  ⎛          \n",
              "                                                      ╱        ╱   ⎜27⋅(c + d)\n",
              "                                                     ╱        ╱    ⎜──────────\n",
              "                                                    ╱        ╱     ⎜    a     \n",
              "                                                   ╱       ╲╱      ⎝          \n",
              "                                                  ╱        ───────────────────\n",
              " 2                                             3 ╱                          2 \n",
              "b                                              ╲╱                             \n",
              "───────────────────────────────────────────, - ───────────────────────────────\n",
              "___________________________________________                                   \n",
              "________________________                                                      \n",
              "               2                                                              \n",
              "             3⎞       6                                                       \n",
              "(c + d)   2⋅b ⎟    4⋅b                                                        \n",
              "─────── + ────⎟  - ────                                                       \n",
              " a          3 ⎟      6                   3                                    \n",
              "           a  ⎠     a      27⋅(c + d)   b                                     \n",
              "──────────────────────── + ────────── + ──                                    \n",
              "     2                        2⋅a        3                                    \n",
              "                                        a                                     \n",
              "\n",
              "____________________________________                                          \n",
              "_________________                                                             \n",
              "        2                                                                     \n",
              "      3⎞       6                                                              \n",
              "   2⋅b ⎟    4⋅b                                                               \n",
              " + ────⎟  - ────                                                              \n",
              "     3 ⎟      6                   3                                           \n",
              "    a  ⎠     a      27⋅(c + d)   b                                            \n",
              "───────────────── + ────────── + ──                                           \n",
              "                       2⋅a        3                                           \n",
              "                                 a      b                                     \n",
              "──────────────────────────────────── - ─── - ─────────────────────────────────\n",
              "  3                                    3⋅a                   _________________\n",
              "                                                            ╱        _________\n",
              "                                                           ╱        ╱         \n",
              "                                                          ╱        ╱  ⎛       \n",
              "                                                         ╱        ╱   ⎜27⋅(c +\n",
              "                                                        ╱        ╱    ⎜───────\n",
              "                                                       ╱        ╱     ⎜    a  \n",
              "                                                2     ╱       ╲╱      ⎝       \n",
              "                                             3⋅a ⋅   ╱        ────────────────\n",
              "                                                  3 ╱                         \n",
              "                                                  ╲╱                          \n",
              "\n",
              "                                       ⎫\n",
              "                                       ⎪\n",
              "                                       ⎪\n",
              "                                       ⎪\n",
              "                                       ⎪\n",
              "                                       ⎪\n",
              "                                       ⎪\n",
              "                                       ⎪\n",
              "                                       ⎪\n",
              "   2                                   ⎪\n",
              "  b                                    ⎪\n",
              "───────────────────────────────────────⎬\n",
              "_______________________________________⎪\n",
              "____________________                   ⎪\n",
              "           2                           ⎪\n",
              "         3⎞       6                    ⎪\n",
              " d)   2⋅b ⎟    4⋅b                     ⎪\n",
              "─── + ────⎟  - ────                    ⎪\n",
              "        3 ⎟      6                   3 ⎪\n",
              "       a  ⎠     a      27⋅(c + d)   b  ⎪\n",
              "──────────────────── + ────────── + ── ⎪\n",
              " 2                        2⋅a        3 ⎪\n",
              "                                    a  ⎭"
            ]
          },
          "metadata": {
            "tags": []
          },
          "execution_count": 31
        }
      ]
    },
    {
      "cell_type": "code",
      "metadata": {
        "id": "e7AMvmRf1Ejd",
        "colab_type": "code",
        "colab": {
          "base_uri": "https://localhost:8080/",
          "height": 34
        },
        "outputId": "2ce012fc-48f8-443e-92b6-160f6487e230"
      },
      "source": [
        "sym.solveset(x ** 2 + 1, x, domain=sym.S.Reals)"
      ],
      "execution_count": 32,
      "outputs": [
        {
          "output_type": "execute_result",
          "data": {
            "image/png": "[encoded data removed]",
            "text/latex": "$$\\emptyset$$",
            "text/plain": [
              "∅"
            ]
          },
          "metadata": {
            "tags": []
          },
          "execution_count": 32
        }
      ]
    },
    {
      "cell_type": "code",
      "metadata": {
        "id": "Ldcwjm0O1XjV",
        "colab_type": "code",
        "colab": {
          "base_uri": "https://localhost:8080/",
          "height": 34
        },
        "outputId": "bbcae6bd-3eb9-422e-c0be-1c1697eb995d"
      },
      "source": [
        "#Exercise\n",
        "sym.solveset(x ** 2 == 2 , x, domain=sym.S.Naturals)"
      ],
      "execution_count": 35,
      "outputs": [
        {
          "output_type": "execute_result",
          "data": {
            "image/png": "[encoded data removed]",
            "text/latex": "$$\\emptyset$$",
            "text/plain": [
              "∅"
            ]
          },
          "metadata": {
            "tags": []
          },
          "execution_count": 35
        }
      ]
    },
    {
      "cell_type": "code",
      "metadata": {
        "id": "OBrxNh6n2Cjs",
        "colab_type": "code",
        "colab": {
          "base_uri": "https://localhost:8080/",
          "height": 34
        },
        "outputId": "db3e61d9-bc09-4b9d-e9df-be83ee478bf1"
      },
      "source": [
        "#Exercise\n",
        "sym.solveset(x ** 3 + 2 * x , x, domain=sym.S.Reals)"
      ],
      "execution_count": 33,
      "outputs": [
        {
          "output_type": "execute_result",
          "data": {
            "image/png": "[encoded data removed]",
            "text/latex": "$$\\left\\{0\\right\\}$$",
            "text/plain": [
              "{0}"
            ]
          },
          "metadata": {
            "tags": []
          },
          "execution_count": 33
        }
      ]
    },
    {
      "cell_type": "markdown",
      "metadata": {
        "id": "E7IEZLSD2YoJ",
        "colab_type": "text"
      },
      "source": [
        "Naturals N\\\n",
        "Naturals0 N0\\\n",
        "Integers Z\\\n",
        "Reals R\\\n",
        "Complexes C\\\n",
        "EmptySet ϕ"
      ]
    },
    {
      "cell_type": "markdown",
      "metadata": {
        "id": "_Wi6Ia793g08",
        "colab_type": "text"
      },
      "source": [
        "##Plotting with Sympy"
      ]
    },
    {
      "cell_type": "code",
      "metadata": {
        "id": "UB-c1xlt2iYy",
        "colab_type": "code",
        "colab": {}
      },
      "source": [
        "%matplotlib inline"
      ],
      "execution_count": 0,
      "outputs": []
    },
    {
      "cell_type": "code",
      "metadata": {
        "id": "EHB_3-UU3sLj",
        "colab_type": "code",
        "colab": {
          "base_uri": "https://localhost:8080/",
          "height": 278
        },
        "outputId": "242482a3-21ce-4a71-b20e-c365eda66b44"
      },
      "source": [
        "expr = x ** 2\n",
        "p = sym.plot(expr);\n",
        "#save to a file: p.save(\"x_squared.pdf\");"
      ],
      "execution_count": 39,
      "outputs": [
        {
          "output_type": "display_data",
          "data": {
            "image/png": "[encoded data removed]",
            "text/plain": [
              "<Figure size 432x288 with 1 Axes>"
            ]
          },
          "metadata": {
            "tags": []
          }
        }
      ]
    },
    {
      "cell_type": "code",
      "metadata": {
        "id": "A9eXgcle3-Zq",
        "colab_type": "code",
        "colab": {
          "base_uri": "https://localhost:8080/",
          "height": 257
        },
        "outputId": "cecb28d7-dcea-4922-bfd9-7cdf8f2337c1"
      },
      "source": [
        "#Exercise\n",
        "Exer3 = x + sym.cos(x)\n",
        "p = sym.plot(Exer3);"
      ],
      "execution_count": 53,
      "outputs": [
        {
          "output_type": "display_data",
          "data": {
            "image/png": "[encoded data removed]",
            "text/plain": [
              "<Figure size 432x288 with 1 Axes>"
            ]
          },
          "metadata": {
            "tags": []
          }
        }
      ]
    },
    {
      "cell_type": "code",
      "metadata": {
        "id": "icQxYHqv5K-Z",
        "colab_type": "code",
        "colab": {
          "base_uri": "https://localhost:8080/",
          "height": 278
        },
        "outputId": "9bd58658-3755-4968-f953-294d6409f6b0"
      },
      "source": [
        "#Exercise\n",
        "import math\n",
        "Exer4 = x ** 2 + math.e ** x\n",
        "p = sym.plot(Exer4);"
      ],
      "execution_count": 54,
      "outputs": [
        {
          "output_type": "display_data",
          "data": {
            "image/png": "[encoded data removed]",
            "text/plain": [
              "<Figure size 432x288 with 1 Axes>"
            ]
          },
          "metadata": {
            "tags": []
          }
        }
      ]
    }
  ]
}
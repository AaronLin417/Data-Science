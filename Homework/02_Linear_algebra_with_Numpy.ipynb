{
  "nbformat": 4,
  "nbformat_minor": 0,
  "metadata": {
    "colab": {
      "name": "02-Linear-algebra-with-Numpy.ipynb",
      "provenance": [],
      "include_colab_link": true
    },
    "kernelspec": {
      "name": "python3",
      "display_name": "Python 3"
    }
  },
  "cells": [
    {
      "cell_type": "markdown",
      "metadata": {
        "id": "view-in-github",
        "colab_type": "text"
      },
      "source": [
        "<a href=\"https://colab.research.google.com/github/AaronLin417/Data-Science/blob/master/Homework/02_Linear_algebra_with_Numpy.ipynb\" target=\"_parent\"><img src=\"https://colab.research.google.com/assets/colab-badge.svg\" alt=\"Open In Colab\"/></a>"
      ]
    },
    {
      "cell_type": "markdown",
      "metadata": {
        "id": "Uz0Wdw5dfdmi",
        "colab_type": "text"
      },
      "source": [
        "#Linear algebra with Numpy\n",
        "https://github.com/drvinceknight/Python-Mathematics-Handbook/blob/ee91644ab2028acb2f4c42839cc335aca20229c5/02-Linear-algebra-with-Numpy.ipynb"
      ]
    },
    {
      "cell_type": "markdown",
      "metadata": {
        "id": "Q9cCFdBEf_aE",
        "colab_type": "text"
      },
      "source": [
        "#Manipulating matrices"
      ]
    },
    {
      "cell_type": "code",
      "metadata": {
        "id": "pwDieRXlfJaG",
        "colab_type": "code",
        "colab": {}
      },
      "source": [
        "import numpy as np"
      ],
      "execution_count": 0,
      "outputs": []
    },
    {
      "cell_type": "markdown",
      "metadata": {
        "id": "SNIzl5BImOat",
        "colab_type": "text"
      },
      "source": [
        "Defining A&B"
      ]
    },
    {
      "cell_type": "code",
      "metadata": {
        "id": "cWNuB4_vl3H0",
        "colab_type": "code",
        "colab": {
          "base_uri": "https://localhost:8080/",
          "height": 69
        },
        "outputId": "a2caf39e-e954-4bd1-895a-0bc14c26588c"
      },
      "source": [
        "A = np.matrix([[5, 6, 2],\n",
        "               [4, 7, 19],\n",
        "               [0, 3, 12]])\n",
        "A"
      ],
      "execution_count": 2,
      "outputs": [
        {
          "output_type": "execute_result",
          "data": {
            "text/plain": [
              "matrix([[ 5,  6,  2],\n",
              "        [ 4,  7, 19],\n",
              "        [ 0,  3, 12]])"
            ]
          },
          "metadata": {
            "tags": []
          },
          "execution_count": 2
        }
      ]
    },
    {
      "cell_type": "code",
      "metadata": {
        "id": "q9vjvdGTmEO7",
        "colab_type": "code",
        "colab": {
          "base_uri": "https://localhost:8080/",
          "height": 69
        },
        "outputId": "1d463d98-6a4c-430c-be59-99891c66d1d8"
      },
      "source": [
        "B = np.matrix([[14, -2, 12],\n",
        "               [4, 4, 5],\n",
        "               [5, 5, 1]])\n",
        "B"
      ],
      "execution_count": 3,
      "outputs": [
        {
          "output_type": "execute_result",
          "data": {
            "text/plain": [
              "matrix([[14, -2, 12],\n",
              "        [ 4,  4,  5],\n",
              "        [ 5,  5,  1]])"
            ]
          },
          "metadata": {
            "tags": []
          },
          "execution_count": 3
        }
      ]
    },
    {
      "cell_type": "code",
      "metadata": {
        "id": "blQOaYf7mX1b",
        "colab_type": "code",
        "colab": {
          "base_uri": "https://localhost:8080/",
          "height": 69
        },
        "outputId": "e2982032-bea5-4293-ecef-403787cb92c5"
      },
      "source": [
        "12*A"
      ],
      "execution_count": 4,
      "outputs": [
        {
          "output_type": "execute_result",
          "data": {
            "text/plain": [
              "matrix([[ 60,  72,  24],\n",
              "        [ 48,  84, 228],\n",
              "        [  0,  36, 144]])"
            ]
          },
          "metadata": {
            "tags": []
          },
          "execution_count": 4
        }
      ]
    },
    {
      "cell_type": "code",
      "metadata": {
        "id": "fO0Zkvfcm343",
        "colab_type": "code",
        "colab": {
          "base_uri": "https://localhost:8080/",
          "height": 69
        },
        "outputId": "cdbd6c4a-d0cf-4bdb-c3be-89a7dbba295b"
      },
      "source": [
        "A ** 6"
      ],
      "execution_count": 5,
      "outputs": [
        {
          "output_type": "execute_result",
          "data": {
            "text/plain": [
              "matrix([[ 2252617,  7279152, 22659352],\n",
              "        [ 4189392, 13800421, 43283616],\n",
              "        [ 1990128,  6624768, 20861445]])"
            ]
          },
          "metadata": {
            "tags": []
          },
          "execution_count": 5
        }
      ]
    },
    {
      "cell_type": "code",
      "metadata": {
        "id": "NwuKZ0IMmget",
        "colab_type": "code",
        "colab": {
          "base_uri": "https://localhost:8080/",
          "height": 69
        },
        "outputId": "9dc9e1b6-2d9c-4e1f-ba6d-45ba8893ee73"
      },
      "source": [
        "A + B"
      ],
      "execution_count": 6,
      "outputs": [
        {
          "output_type": "execute_result",
          "data": {
            "text/plain": [
              "matrix([[19,  4, 14],\n",
              "        [ 8, 11, 24],\n",
              "        [ 5,  8, 13]])"
            ]
          },
          "metadata": {
            "tags": []
          },
          "execution_count": 6
        }
      ]
    },
    {
      "cell_type": "code",
      "metadata": {
        "id": "3Lhuumykmj0b",
        "colab_type": "code",
        "colab": {
          "base_uri": "https://localhost:8080/",
          "height": 69
        },
        "outputId": "89c85d78-1789-4916-e437-d6302bee8e72"
      },
      "source": [
        "A - B"
      ],
      "execution_count": 7,
      "outputs": [
        {
          "output_type": "execute_result",
          "data": {
            "text/plain": [
              "matrix([[ -9,   8, -10],\n",
              "        [  0,   3,  14],\n",
              "        [ -5,  -2,  11]])"
            ]
          },
          "metadata": {
            "tags": []
          },
          "execution_count": 7
        }
      ]
    },
    {
      "cell_type": "code",
      "metadata": {
        "id": "xrZra2wRm_DU",
        "colab_type": "code",
        "colab": {
          "base_uri": "https://localhost:8080/",
          "height": 69
        },
        "outputId": "7f485918-b418-4313-a36e-993af546af5b"
      },
      "source": [
        "A * B"
      ],
      "execution_count": 8,
      "outputs": [
        {
          "output_type": "execute_result",
          "data": {
            "text/plain": [
              "matrix([[104,  24,  92],\n",
              "        [179, 115, 102],\n",
              "        [ 72,  72,  27]])"
            ]
          },
          "metadata": {
            "tags": []
          },
          "execution_count": 8
        }
      ]
    },
    {
      "cell_type": "code",
      "metadata": {
        "id": "G1Tu_093nEtT",
        "colab_type": "code",
        "colab": {
          "base_uri": "https://localhost:8080/",
          "height": 52
        },
        "outputId": "f76e7877-1cbe-4d9b-cd50-81d1d9fd6b36"
      },
      "source": [
        "#Exercise\n",
        "A = np.matrix([[1, -1],\n",
        "               [2, 1]])\n",
        "A ** 2 - 2 * A + 3"
      ],
      "execution_count": 9,
      "outputs": [
        {
          "output_type": "execute_result",
          "data": {
            "text/plain": [
              "matrix([[0, 3],\n",
              "        [3, 0]])"
            ]
          },
          "metadata": {
            "tags": []
          },
          "execution_count": 9
        }
      ]
    },
    {
      "cell_type": "markdown",
      "metadata": {
        "id": "Cq_341d_n7fB",
        "colab_type": "text"
      },
      "source": [
        "#Solving Matrix equations"
      ]
    },
    {
      "cell_type": "code",
      "metadata": {
        "id": "v0dGDxC5oDFa",
        "colab_type": "code",
        "colab": {}
      },
      "source": [
        "A = np.matrix([[5, 6, 2],\n",
        "               [4, 7, 19],\n",
        "               [0, 3, 12]])\n",
        "b = np.matrix([[-1], [2], [1]])"
      ],
      "execution_count": 0,
      "outputs": []
    },
    {
      "cell_type": "markdown",
      "metadata": {
        "id": "vYXTri1FobZ1",
        "colab_type": "text"
      },
      "source": [
        "Using the linalg.solve command"
      ]
    },
    {
      "cell_type": "code",
      "metadata": {
        "id": "vBP7misyoMnC",
        "colab_type": "code",
        "colab": {
          "base_uri": "https://localhost:8080/",
          "height": 69
        },
        "outputId": "61ac9107-fc79-47b8-ce59-afc61d643dd2"
      },
      "source": [
        "x = np.linalg.solve(A, b)\n",
        "x"
      ],
      "execution_count": 11,
      "outputs": [
        {
          "output_type": "execute_result",
          "data": {
            "text/plain": [
              "matrix([[ 0.45736434],\n",
              "        [-0.62790698],\n",
              "        [ 0.24031008]])"
            ]
          },
          "metadata": {
            "tags": []
          },
          "execution_count": 11
        }
      ]
    },
    {
      "cell_type": "markdown",
      "metadata": {
        "id": "dlsFHvigoSvA",
        "colab_type": "text"
      },
      "source": [
        "Verifing result"
      ]
    },
    {
      "cell_type": "code",
      "metadata": {
        "id": "WtrtTG4poPYI",
        "colab_type": "code",
        "colab": {
          "base_uri": "https://localhost:8080/",
          "height": 69
        },
        "outputId": "74a51d22-929a-487d-de66-ae380be4d4ba"
      },
      "source": [
        "A * x"
      ],
      "execution_count": 12,
      "outputs": [
        {
          "output_type": "execute_result",
          "data": {
            "text/plain": [
              "matrix([[-1.],\n",
              "        [ 2.],\n",
              "        [ 1.]])"
            ]
          },
          "metadata": {
            "tags": []
          },
          "execution_count": 12
        }
      ]
    },
    {
      "cell_type": "code",
      "metadata": {
        "id": "Lb7057_oohOW",
        "colab_type": "code",
        "colab": {
          "base_uri": "https://localhost:8080/",
          "height": 69
        },
        "outputId": "36ca2049-19db-47c5-dc49-86dd72f5ac0c"
      },
      "source": [
        "#Exercise\n",
        "B = np.matrix([[14, -2, 12],\n",
        "               [4, 4, 5],\n",
        "               [5, 5, 1]])\n",
        "b = np.matrix([[-1], [2], [1]])\n",
        "x = np.linalg.solve(B, b)\n",
        "x"
      ],
      "execution_count": 13,
      "outputs": [
        {
          "output_type": "execute_result",
          "data": {
            "text/plain": [
              "matrix([[-0.25892857],\n",
              "        [ 0.40178571],\n",
              "        [ 0.28571429]])"
            ]
          },
          "metadata": {
            "tags": []
          },
          "execution_count": 13
        }
      ]
    },
    {
      "cell_type": "markdown",
      "metadata": {
        "id": "MmXMleHRo12B",
        "colab_type": "text"
      },
      "source": [
        "#Matrix inversion and determinants"
      ]
    },
    {
      "cell_type": "code",
      "metadata": {
        "id": "lB00IPlno3Aq",
        "colab_type": "code",
        "colab": {
          "base_uri": "https://localhost:8080/",
          "height": 69
        },
        "outputId": "ab435330-268d-41d8-9971-0007cd0caa10"
      },
      "source": [
        "Ainv = np.linalg.inv(A)\n",
        "Ainv"
      ],
      "execution_count": 14,
      "outputs": [
        {
          "output_type": "execute_result",
          "data": {
            "text/plain": [
              "matrix([[-0.20930233,  0.51162791, -0.7751938 ],\n",
              "        [ 0.37209302, -0.46511628,  0.6744186 ],\n",
              "        [-0.09302326,  0.11627907, -0.08527132]])"
            ]
          },
          "metadata": {
            "tags": []
          },
          "execution_count": 14
        }
      ]
    },
    {
      "cell_type": "markdown",
      "metadata": {
        "id": "6ZhWHSWIo_SE",
        "colab_type": "text"
      },
      "source": [
        "Verifing that A^-1 * A = 1"
      ]
    },
    {
      "cell_type": "code",
      "metadata": {
        "id": "gJ-Bv5rFpURj",
        "colab_type": "code",
        "colab": {
          "base_uri": "https://localhost:8080/",
          "height": 69
        },
        "outputId": "01aaa9fb-9a8e-4d8c-db41-98ea8462f0c8"
      },
      "source": [
        "A * Ainv\n",
        "#The below might not look like the identity matrix but if you look closer you see that the diagonals are all 1 and the off diagonals are a very small number (which from a computer's point of view is 0)."
      ],
      "execution_count": 15,
      "outputs": [
        {
          "output_type": "execute_result",
          "data": {
            "text/plain": [
              "matrix([[ 1.00000000e+00,  4.99600361e-16, -4.71844785e-16],\n",
              "        [ 1.38777878e-16,  1.00000000e+00, -2.63677968e-16],\n",
              "        [ 1.11022302e-16,  1.11022302e-16,  1.00000000e+00]])"
            ]
          },
          "metadata": {
            "tags": []
          },
          "execution_count": 15
        }
      ]
    },
    {
      "cell_type": "markdown",
      "metadata": {
        "id": "jBX9LVI8pmlG",
        "colab_type": "text"
      },
      "source": [
        "Calculating the determinant"
      ]
    },
    {
      "cell_type": "code",
      "metadata": {
        "id": "ByIxoiRyplP9",
        "colab_type": "code",
        "colab": {
          "base_uri": "https://localhost:8080/",
          "height": 35
        },
        "outputId": "04913b6c-71af-45ca-d912-4a7ca0be1bad"
      },
      "source": [
        "np.linalg.det(A)"
      ],
      "execution_count": 16,
      "outputs": [
        {
          "output_type": "execute_result",
          "data": {
            "text/plain": [
              "-129.00000000000009"
            ]
          },
          "metadata": {
            "tags": []
          },
          "execution_count": 16
        }
      ]
    },
    {
      "cell_type": "code",
      "metadata": {
        "id": "Omd-vpQOpujO",
        "colab_type": "code",
        "colab": {
          "base_uri": "https://localhost:8080/",
          "height": 69
        },
        "outputId": "a0fa2ec3-a155-4b85-b315-8f926c939ba9"
      },
      "source": [
        "#Exercise\n",
        "C = np.matrix([[17, -2, 12],\n",
        "               [4, 3, 7],\n",
        "               [12, -1, 5]])\n",
        "Cinv = np.linalg.inv(C)\n",
        "Cinv"
      ],
      "execution_count": 17,
      "outputs": [
        {
          "output_type": "execute_result",
          "data": {
            "text/plain": [
              "matrix([[-0.09401709,  0.00854701,  0.21367521],\n",
              "        [-0.27350427,  0.25213675,  0.3034188 ],\n",
              "        [ 0.17094017,  0.02991453, -0.25213675]])"
            ]
          },
          "metadata": {
            "tags": []
          },
          "execution_count": 17
        }
      ]
    },
    {
      "cell_type": "code",
      "metadata": {
        "id": "TRIewLLLqGYf",
        "colab_type": "code",
        "colab": {
          "base_uri": "https://localhost:8080/",
          "height": 35
        },
        "outputId": "89f9d20d-1518-484d-c427-7e6216ee1dd1"
      },
      "source": [
        "np.linalg.det(C)"
      ],
      "execution_count": 18,
      "outputs": [
        {
          "output_type": "execute_result",
          "data": {
            "text/plain": [
              "-234.00000000000006"
            ]
          },
          "metadata": {
            "tags": []
          },
          "execution_count": 18
        }
      ]
    }
  ]
}
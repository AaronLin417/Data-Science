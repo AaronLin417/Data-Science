{
  "nbformat": 4,
  "nbformat_minor": 0,
  "metadata": {
    "colab": {
      "name": "python基礎統計分析.ipynb",
      "provenance": [],
      "include_colab_link": true
    },
    "kernelspec": {
      "name": "python3",
      "display_name": "Python 3"
    }
  },
  "cells": [
    {
      "cell_type": "markdown",
      "metadata": {
        "id": "view-in-github",
        "colab_type": "text"
      },
      "source": [
        "<a href=\"https://colab.research.google.com/github/AaronLin417/Data-Science/blob/master/Homework/python%E5%9F%BA%E7%A4%8E%E7%B5%B1%E8%A8%88%E5%88%86%E6%9E%90.ipynb\" target=\"_parent\"><img src=\"https://colab.research.google.com/assets/colab-badge.svg\" alt=\"Open In Colab\"/></a>"
      ]
    },
    {
      "cell_type": "markdown",
      "metadata": {
        "id": "UIl_KAUJsSaP",
        "colab_type": "text"
      },
      "source": [
        "#python基礎統計分析\n",
        "https://github.com/HappyHackingHigh/AI4high/blob/master/DataScience/5_python%E5%9F%BA%E7%A4%8E%E7%B5%B1%E8%A8%88%E5%88%86%E6%9E%90.md"
      ]
    },
    {
      "cell_type": "code",
      "metadata": {
        "id": "CIBgtcp2psR0",
        "colab_type": "code",
        "colab": {}
      },
      "source": [
        "# -*- coding: utf-8 -*-\n",
        "import numpy as np\n",
        "import pandas as pd\n",
        "\n",
        "# used for dates\n",
        "import datetime\n",
        "from datetime import datetime, date\n",
        "\n",
        "# Set formattign options\n",
        "pd.set_option('display.notebook_repr_html', False)\n",
        "pd.set_option('display.max_columns', 7)\n",
        "pd.set_option('display.max_rows', 10)\n",
        "pd.set_option('display.width', 60)\n",
        "\n",
        "# bring in matplotlib for graphics\n",
        "import matplotlib.pyplot as plt\n",
        "# %matplotlib inline"
      ],
      "execution_count": 0,
      "outputs": []
    },
    {
      "cell_type": "markdown",
      "metadata": {
        "id": "GWfjI5FwyOZG",
        "colab_type": "text"
      },
      "source": [
        "##下載資料"
      ]
    },
    {
      "cell_type": "markdown",
      "metadata": {
        "id": "xtIGBjcApeyI",
        "colab_type": "text"
      },
      "source": [
        "標普500的資料與每月股票資料"
      ]
    },
    {
      "cell_type": "code",
      "metadata": {
        "id": "yzOVFsp9pPwt",
        "colab_type": "code",
        "outputId": "5ef5cf02-3964-4709-f21e-aaa7345b075e",
        "colab": {
          "base_uri": "https://localhost:8080/",
          "height": 0
        }
      },
      "source": [
        "!wget https://raw.githubusercontent.com/PacktPublishing/Learning-Pandas-Second-Edition/master/data/sp500.csv"
      ],
      "execution_count": 2,
      "outputs": [
        {
          "output_type": "stream",
          "text": [
            "--2019-12-10 04:04:38--  https://raw.githubusercontent.com/PacktPublishing/Learning-Pandas-Second-Edition/master/data/sp500.csv\n",
            "Resolving raw.githubusercontent.com (raw.githubusercontent.com)... 151.101.0.133, 151.101.64.133, 151.101.128.133, ...\n",
            "Connecting to raw.githubusercontent.com (raw.githubusercontent.com)|151.101.0.133|:443... connected.\n",
            "HTTP request sent, awaiting response... 200 OK\n",
            "Length: 83629 (82K) [text/plain]\n",
            "Saving to: ‘sp500.csv.1’\n",
            "\n",
            "\rsp500.csv.1           0%[                    ]       0  --.-KB/s               \rsp500.csv.1         100%[===================>]  81.67K  --.-KB/s    in 0.01s   \n",
            "\n",
            "2019-12-10 04:04:38 (7.19 MB/s) - ‘sp500.csv.1’ saved [83629/83629]\n",
            "\n"
          ],
          "name": "stdout"
        }
      ]
    },
    {
      "cell_type": "code",
      "metadata": {
        "id": "tKOYxwbPpXWh",
        "colab_type": "code",
        "outputId": "60aed96a-47b2-47dd-9146-f295ca7d5439",
        "colab": {
          "base_uri": "https://localhost:8080/",
          "height": 0
        }
      },
      "source": [
        "!wget https://raw.githubusercontent.com/PacktPublishing/Learning-Pandas-Second-Edition/master/data/omh.csv"
      ],
      "execution_count": 3,
      "outputs": [
        {
          "output_type": "stream",
          "text": [
            "--2019-12-10 04:04:41--  https://raw.githubusercontent.com/PacktPublishing/Learning-Pandas-Second-Edition/master/data/omh.csv\n",
            "Resolving raw.githubusercontent.com (raw.githubusercontent.com)... 151.101.0.133, 151.101.64.133, 151.101.128.133, ...\n",
            "Connecting to raw.githubusercontent.com (raw.githubusercontent.com)|151.101.0.133|:443... connected.\n",
            "HTTP request sent, awaiting response... 200 OK\n",
            "Length: 539 [text/plain]\n",
            "Saving to: ‘omh.csv.1’\n",
            "\n",
            "\romh.csv.1             0%[                    ]       0  --.-KB/s               \romh.csv.1           100%[===================>]     539  --.-KB/s    in 0s      \n",
            "\n",
            "2019-12-10 04:04:41 (95.9 MB/s) - ‘omh.csv.1’ saved [539/539]\n",
            "\n"
          ],
          "name": "stdout"
        }
      ]
    },
    {
      "cell_type": "code",
      "metadata": {
        "id": "yTL-UaX9pkAz",
        "colab_type": "code",
        "outputId": "89da2ff1-065d-4113-cc97-dd1d67ef3fda",
        "colab": {
          "base_uri": "https://localhost:8080/",
          "height": 0
        }
      },
      "source": [
        "#查看資料\n",
        "!ls\n",
        "#創建目錄：%mkdir 目錄名稱"
      ],
      "execution_count": 4,
      "outputs": [
        {
          "output_type": "stream",
          "text": [
            "omh.csv  omh.csv.1  sample_data  sp500.csv  sp500.csv.1\n"
          ],
          "name": "stdout"
        }
      ]
    },
    {
      "cell_type": "code",
      "metadata": {
        "id": "UtMCjOi4ryG6",
        "colab_type": "code",
        "outputId": "b86d8739-cf57-4152-9ec9-c62c32d94b83",
        "colab": {
          "base_uri": "https://localhost:8080/",
          "height": 0
        }
      },
      "source": [
        "# read in the data and print the first five rows\n",
        "# use the Symbol column as the index, and only read in columns in positions 0, 2, 3, 7\n",
        "sp500 = pd.read_csv(\"sp500.csv\", \n",
        "                    index_col='Symbol', \n",
        "                    usecols=[0, 2, 3, 7])\n",
        "sp500"
      ],
      "execution_count": 5,
      "outputs": [
        {
          "output_type": "execute_result",
          "data": {
            "text/plain": [
              "                        Sector   Price  Book Value\n",
              "Symbol                                            \n",
              "MMM                Industrials  141.14      26.668\n",
              "ABT                Health Care   39.60      15.573\n",
              "ABBV               Health Care   53.95       2.954\n",
              "ACN     Information Technology   79.79       8.326\n",
              "ACE                 Financials  102.91      86.897\n",
              "...                        ...     ...         ...\n",
              "YHOO    Information Technology   35.02      12.768\n",
              "YUM     Consumer Discretionary   74.77       5.147\n",
              "ZMH                Health Care  101.84      37.181\n",
              "ZION                Financials   28.43      30.191\n",
              "ZTS                Health Care   30.53       2.150\n",
              "\n",
              "[500 rows x 3 columns]"
            ]
          },
          "metadata": {
            "tags": []
          },
          "execution_count": 5
        }
      ]
    },
    {
      "cell_type": "code",
      "metadata": {
        "id": "ugZrFo5Yr0T2",
        "colab_type": "code",
        "outputId": "ca1a45f7-3e28-4928-f695-e982ea685091",
        "colab": {
          "base_uri": "https://localhost:8080/",
          "height": 0
        }
      },
      "source": [
        "# one month of stock history data\n",
        "omh = pd.read_csv(\"omh.csv\")\n",
        "omh"
      ],
      "execution_count": 6,
      "outputs": [
        {
          "output_type": "execute_result",
          "data": {
            "text/plain": [
              "          Date   MSFT    AAPL\n",
              "0   2014-12-01  48.62  115.07\n",
              "1   2014-12-02  48.46  114.63\n",
              "2   2014-12-03  48.08  115.93\n",
              "3   2014-12-04  48.84  115.49\n",
              "4   2014-12-05  48.42  115.00\n",
              "..         ...    ...     ...\n",
              "17  2014-12-24  48.14  112.01\n",
              "18  2014-12-26  47.88  113.99\n",
              "19  2014-12-29  47.45  113.91\n",
              "20  2014-12-30  47.02  112.52\n",
              "21  2014-12-31  46.45  110.38\n",
              "\n",
              "[22 rows x 3 columns]"
            ]
          },
          "metadata": {
            "tags": []
          },
          "execution_count": 6
        }
      ]
    },
    {
      "cell_type": "markdown",
      "metadata": {
        "id": "jcA7AY8pzczz",
        "colab_type": "text"
      },
      "source": [
        "#(一)描述統計學descriptive statistics"
      ]
    },
    {
      "cell_type": "markdown",
      "metadata": {
        "id": "cLS2DVVW9T-B",
        "colab_type": "text"
      },
      "source": [
        "##資料統計"
      ]
    },
    {
      "cell_type": "markdown",
      "metadata": {
        "id": "LrnnmGKczgVZ",
        "colab_type": "text"
      },
      "source": [
        "get summary statistics for the stock data"
      ]
    },
    {
      "cell_type": "code",
      "metadata": {
        "id": "HQG4qvXVscGM",
        "colab_type": "code",
        "outputId": "3261a9d7-f621-4ab7-c87d-dfd91904a7fc",
        "colab": {
          "base_uri": "https://localhost:8080/",
          "height": 0
        }
      },
      "source": [
        "omh.describe()"
      ],
      "execution_count": 7,
      "outputs": [
        {
          "output_type": "execute_result",
          "data": {
            "text/plain": [
              "            MSFT        AAPL\n",
              "count  22.000000   22.000000\n",
              "mean   47.493182  112.411364\n",
              "std     0.933077    2.388772\n",
              "min    45.160000  106.750000\n",
              "25%    46.967500  111.660000\n",
              "50%    47.625000  112.530000\n",
              "75%    48.125000  114.087500\n",
              "max    48.840000  115.930000"
            ]
          },
          "metadata": {
            "tags": []
          },
          "execution_count": 7
        }
      ]
    },
    {
      "cell_type": "markdown",
      "metadata": {
        "id": "vi3huDp1zjcj",
        "colab_type": "text"
      },
      "source": [
        "only the stats for MSFT"
      ]
    },
    {
      "cell_type": "code",
      "metadata": {
        "id": "8JFCjzAhzmVP",
        "colab_type": "code",
        "outputId": "16517d25-dc78-45d4-c344-e0f35def0cba",
        "colab": {
          "base_uri": "https://localhost:8080/",
          "height": 0
        }
      },
      "source": [
        "omh.MSFT.describe()"
      ],
      "execution_count": 8,
      "outputs": [
        {
          "output_type": "execute_result",
          "data": {
            "text/plain": [
              "count    22.000000\n",
              "mean     47.493182\n",
              "std       0.933077\n",
              "min      45.160000\n",
              "25%      46.967500\n",
              "50%      47.625000\n",
              "75%      48.125000\n",
              "max      48.840000\n",
              "Name: MSFT, dtype: float64"
            ]
          },
          "metadata": {
            "tags": []
          },
          "execution_count": 8
        }
      ]
    },
    {
      "cell_type": "markdown",
      "metadata": {
        "id": "XxtoDTD1zpH9",
        "colab_type": "text"
      },
      "source": [
        "only the mean for MSFT"
      ]
    },
    {
      "cell_type": "code",
      "metadata": {
        "id": "AHx3TfRZzvFN",
        "colab_type": "code",
        "outputId": "cf8c0fd1-f20a-4ff1-c69d-4b386867d5e2",
        "colab": {
          "base_uri": "https://localhost:8080/",
          "height": 0
        }
      },
      "source": [
        "omh.MSFT.describe()['mean']"
      ],
      "execution_count": 9,
      "outputs": [
        {
          "output_type": "execute_result",
          "data": {
            "text/plain": [
              "47.49318181818182"
            ]
          },
          "metadata": {
            "tags": []
          },
          "execution_count": 9
        }
      ]
    },
    {
      "cell_type": "markdown",
      "metadata": {
        "id": "ovlzjBhzzxVF",
        "colab_type": "text"
      },
      "source": [
        "get summary stats on non-numeric data"
      ]
    },
    {
      "cell_type": "code",
      "metadata": {
        "id": "az7tl7xmzzB0",
        "colab_type": "code",
        "outputId": "71c8c866-f992-4a74-882d-d6e11ab1d877",
        "colab": {
          "base_uri": "https://localhost:8080/",
          "height": 0
        }
      },
      "source": [
        "s = pd.Series(['a', 'a', 'b', 'c', np.NaN])\n",
        "s.describe()"
      ],
      "execution_count": 10,
      "outputs": [
        {
          "output_type": "execute_result",
          "data": {
            "text/plain": [
              "count     4\n",
              "unique    3\n",
              "top       a\n",
              "freq      2\n",
              "dtype: object"
            ]
          },
          "metadata": {
            "tags": []
          },
          "execution_count": 10
        }
      ]
    },
    {
      "cell_type": "markdown",
      "metadata": {
        "id": "DhVSiZ45z3mo",
        "colab_type": "text"
      },
      "source": [
        "##集中趨勢"
      ]
    },
    {
      "cell_type": "markdown",
      "metadata": {
        "id": "W7UXVcjzz9Ft",
        "colab_type": "text"
      },
      "source": [
        "Mean平均值"
      ]
    },
    {
      "cell_type": "code",
      "metadata": {
        "id": "VCIDygYIz7G6",
        "colab_type": "code",
        "outputId": "b56b8e9c-bb13-4082-ccd1-d6e8278ec277",
        "colab": {
          "base_uri": "https://localhost:8080/",
          "height": 0
        }
      },
      "source": [
        "# the mean of all the columns in omh\n",
        "omh.mean()"
      ],
      "execution_count": 11,
      "outputs": [
        {
          "output_type": "execute_result",
          "data": {
            "text/plain": [
              "MSFT     47.493182\n",
              "AAPL    112.411364\n",
              "dtype: float64"
            ]
          },
          "metadata": {
            "tags": []
          },
          "execution_count": 11
        }
      ]
    },
    {
      "cell_type": "code",
      "metadata": {
        "id": "q7pmIbgb0DTV",
        "colab_type": "code",
        "outputId": "d822cc61-4d1d-4ea3-94f2-7ea689bf59b5",
        "colab": {
          "base_uri": "https://localhost:8080/",
          "height": 0
        }
      },
      "source": [
        "# calc the mean of the values in each row\n",
        "omh.mean(axis=1)[:5]"
      ],
      "execution_count": 12,
      "outputs": [
        {
          "output_type": "execute_result",
          "data": {
            "text/plain": [
              "0    81.845\n",
              "1    81.545\n",
              "2    82.005\n",
              "3    82.165\n",
              "4    81.710\n",
              "dtype: float64"
            ]
          },
          "metadata": {
            "tags": []
          },
          "execution_count": 12
        }
      ]
    },
    {
      "cell_type": "markdown",
      "metadata": {
        "id": "sw2uIdsf0GXZ",
        "colab_type": "text"
      },
      "source": [
        "Median中位數"
      ]
    },
    {
      "cell_type": "code",
      "metadata": {
        "id": "R1arFjLU0Hza",
        "colab_type": "code",
        "outputId": "f8b6973e-bfd3-42ff-a02a-0359f4e61d3a",
        "colab": {
          "base_uri": "https://localhost:8080/",
          "height": 0
        }
      },
      "source": [
        "# calc the median of the values in each column\n",
        "omh.median()"
      ],
      "execution_count": 13,
      "outputs": [
        {
          "output_type": "execute_result",
          "data": {
            "text/plain": [
              "MSFT     47.625\n",
              "AAPL    112.530\n",
              "dtype: float64"
            ]
          },
          "metadata": {
            "tags": []
          },
          "execution_count": 13
        }
      ]
    },
    {
      "cell_type": "markdown",
      "metadata": {
        "id": "tiI3-RqU0KOz",
        "colab_type": "text"
      },
      "source": [
        "Mode眾數"
      ]
    },
    {
      "cell_type": "code",
      "metadata": {
        "id": "OIM-pFVo0Lpl",
        "colab_type": "code",
        "outputId": "f8a65821-3a39-4dfd-ce18-4f5032f23da4",
        "colab": {
          "base_uri": "https://localhost:8080/",
          "height": 0
        }
      },
      "source": [
        "# find the mode of this Series\n",
        "s = pd.Series([1, 2, 3, 3, 5])\n",
        "s.mode()"
      ],
      "execution_count": 14,
      "outputs": [
        {
          "output_type": "execute_result",
          "data": {
            "text/plain": [
              "0    3\n",
              "dtype: int64"
            ]
          },
          "metadata": {
            "tags": []
          },
          "execution_count": 14
        }
      ]
    },
    {
      "cell_type": "code",
      "metadata": {
        "id": "KQBwX1tr0NNC",
        "colab_type": "code",
        "outputId": "f91cad92-c1d9-42b3-a977-cdea8c3c2839",
        "colab": {
          "base_uri": "https://localhost:8080/",
          "height": 0
        }
      },
      "source": [
        "# there can be more than one mode\n",
        "s = pd.Series([1, 2, 3, 3, 5, 1])\n",
        "s.mode()"
      ],
      "execution_count": 15,
      "outputs": [
        {
          "output_type": "execute_result",
          "data": {
            "text/plain": [
              "0    1\n",
              "1    3\n",
              "dtype: int64"
            ]
          },
          "metadata": {
            "tags": []
          },
          "execution_count": 15
        }
      ]
    },
    {
      "cell_type": "markdown",
      "metadata": {
        "id": "xwzcfdRx0QlP",
        "colab_type": "text"
      },
      "source": [
        "##離散趨勢"
      ]
    },
    {
      "cell_type": "markdown",
      "metadata": {
        "id": "RCFEHo4Q0T61",
        "colab_type": "text"
      },
      "source": [
        "Variance變異數"
      ]
    },
    {
      "cell_type": "code",
      "metadata": {
        "id": "VtR5j6_-0TUP",
        "colab_type": "code",
        "outputId": "f4c39efb-ef32-4a0f-d438-f1262c37a13c",
        "colab": {
          "base_uri": "https://localhost:8080/",
          "height": 0
        }
      },
      "source": [
        "# calc the variance of the values in each column\n",
        "omh.var()"
      ],
      "execution_count": 16,
      "outputs": [
        {
          "output_type": "execute_result",
          "data": {
            "text/plain": [
              "MSFT    0.870632\n",
              "AAPL    5.706231\n",
              "dtype: float64"
            ]
          },
          "metadata": {
            "tags": []
          },
          "execution_count": 16
        }
      ]
    },
    {
      "cell_type": "markdown",
      "metadata": {
        "id": "NKTLtGBD0aCL",
        "colab_type": "text"
      },
      "source": [
        "Standard Deviation標準差"
      ]
    },
    {
      "cell_type": "code",
      "metadata": {
        "id": "w3H9ETIe0cDQ",
        "colab_type": "code",
        "outputId": "0b4ef1d5-c86c-4775-f98c-d5fc3f9b86c6",
        "colab": {
          "base_uri": "https://localhost:8080/",
          "height": 0
        }
      },
      "source": [
        "omh.std()"
      ],
      "execution_count": 17,
      "outputs": [
        {
          "output_type": "execute_result",
          "data": {
            "text/plain": [
              "MSFT    0.933077\n",
              "AAPL    2.388772\n",
              "dtype: float64"
            ]
          },
          "metadata": {
            "tags": []
          },
          "execution_count": 17
        }
      ]
    },
    {
      "cell_type": "markdown",
      "metadata": {
        "id": "1_pl1IqS0eJ9",
        "colab_type": "text"
      },
      "source": [
        "Covariance共變數"
      ]
    },
    {
      "cell_type": "code",
      "metadata": {
        "id": "JYZApv5D0gas",
        "colab_type": "code",
        "outputId": "49662bd1-6848-4314-a3be-98ebaf4fffe5",
        "colab": {
          "base_uri": "https://localhost:8080/",
          "height": 0
        }
      },
      "source": [
        "#Cov(x,y) = SUM [(xi - μx) * (yi - μy)] / (n - 1)\n",
        "# covariance of MSFT vs AAPL\n",
        "omh.MSFT.cov(omh.AAPL)"
      ],
      "execution_count": 18,
      "outputs": [
        {
          "output_type": "execute_result",
          "data": {
            "text/plain": [
              "1.9261240259740264"
            ]
          },
          "metadata": {
            "tags": []
          },
          "execution_count": 18
        }
      ]
    },
    {
      "cell_type": "markdown",
      "metadata": {
        "id": "O67aal1b0ytu",
        "colab_type": "text"
      },
      "source": [
        "##隨堂測驗"
      ]
    },
    {
      "cell_type": "code",
      "metadata": {
        "id": "iJwADgtf07Ng",
        "colab_type": "code",
        "colab": {}
      },
      "source": [
        "A = pd.Series([60,59,61,62,58,60])\n",
        "B = pd.Series([60,54,66,71,49,60])"
      ],
      "execution_count": 0,
      "outputs": []
    },
    {
      "cell_type": "code",
      "metadata": {
        "id": "46VU0P181GAl",
        "colab_type": "code",
        "outputId": "8ff3aa54-e455-4ff7-a153-e2c3b36b093c",
        "colab": {
          "base_uri": "https://localhost:8080/",
          "height": 0
        }
      },
      "source": [
        "A.describe()"
      ],
      "execution_count": 20,
      "outputs": [
        {
          "output_type": "execute_result",
          "data": {
            "text/plain": [
              "count     6.000000\n",
              "mean     60.000000\n",
              "std       1.414214\n",
              "min      58.000000\n",
              "25%      59.250000\n",
              "50%      60.000000\n",
              "75%      60.750000\n",
              "max      62.000000\n",
              "dtype: float64"
            ]
          },
          "metadata": {
            "tags": []
          },
          "execution_count": 20
        }
      ]
    },
    {
      "cell_type": "code",
      "metadata": {
        "id": "brpnqsOH1J9h",
        "colab_type": "code",
        "outputId": "9a689ee9-6a5c-4d17-a3b1-b6ca913fc943",
        "colab": {
          "base_uri": "https://localhost:8080/",
          "height": 0
        }
      },
      "source": [
        "B.describe()"
      ],
      "execution_count": 21,
      "outputs": [
        {
          "output_type": "execute_result",
          "data": {
            "text/plain": [
              "count     6.000000\n",
              "mean     60.000000\n",
              "std       7.924645\n",
              "min      49.000000\n",
              "25%      55.500000\n",
              "50%      60.000000\n",
              "75%      64.500000\n",
              "max      71.000000\n",
              "dtype: float64"
            ]
          },
          "metadata": {
            "tags": []
          },
          "execution_count": 21
        }
      ]
    },
    {
      "cell_type": "markdown",
      "metadata": {
        "id": "SdNuuMlT6O70",
        "colab_type": "text"
      },
      "source": [
        "#(二)對pandas物件執行算術運算"
      ]
    },
    {
      "cell_type": "markdown",
      "metadata": {
        "id": "gL8yqcl-6SBD",
        "colab_type": "text"
      },
      "source": [
        "DataFrame or Series的簡單運算"
      ]
    },
    {
      "cell_type": "code",
      "metadata": {
        "id": "wORLPkEa6UTQ",
        "colab_type": "code",
        "outputId": "46686856-30e2-4792-9a72-eb1d6b45d2e4",
        "colab": {
          "base_uri": "https://localhost:8080/",
          "height": 0
        }
      },
      "source": [
        "# set the seed to allow replicatable results\n",
        "np.random.seed(123456)\n",
        "# create the DataFrame\n",
        "df = pd.DataFrame(np.random.randn(5, 4), \n",
        "                  columns=['A', 'B', 'C', 'D'])\n",
        "df"
      ],
      "execution_count": 22,
      "outputs": [
        {
          "output_type": "execute_result",
          "data": {
            "text/plain": [
              "          A         B         C         D\n",
              "0  0.469112 -0.282863 -1.509059 -1.135632\n",
              "1  1.212112 -0.173215  0.119209 -1.044236\n",
              "2 -0.861849 -2.104569 -0.494929  1.071804\n",
              "3  0.721555 -0.706771 -1.039575  0.271860\n",
              "4 -0.424972  0.567020  0.276232 -1.087401"
            ]
          },
          "metadata": {
            "tags": []
          },
          "execution_count": 22
        }
      ]
    },
    {
      "cell_type": "code",
      "metadata": {
        "id": "gtQfCXZT6Xly",
        "colab_type": "code",
        "outputId": "9835a51a-aae9-4f4d-94e3-ae4e92235898",
        "colab": {
          "base_uri": "https://localhost:8080/",
          "height": 0
        }
      },
      "source": [
        "# multiply everything by 2\n",
        "df * 2"
      ],
      "execution_count": 23,
      "outputs": [
        {
          "output_type": "execute_result",
          "data": {
            "text/plain": [
              "          A         B         C         D\n",
              "0  0.938225 -0.565727 -3.018117 -2.271265\n",
              "1  2.424224 -0.346429  0.238417 -2.088472\n",
              "2 -1.723698 -4.209138 -0.989859  2.143608\n",
              "3  1.443110 -1.413542 -2.079150  0.543720\n",
              "4 -0.849945  1.134041  0.552464 -2.174801"
            ]
          },
          "metadata": {
            "tags": []
          },
          "execution_count": 23
        }
      ]
    },
    {
      "cell_type": "code",
      "metadata": {
        "id": "JnKfC3NE6bTz",
        "colab_type": "code",
        "outputId": "61d16b00-52f4-4064-a8dd-c3a349af7c4d",
        "colab": {
          "base_uri": "https://localhost:8080/",
          "height": 0
        }
      },
      "source": [
        "# get first row \n",
        "s = df.iloc[0] \n",
        "s"
      ],
      "execution_count": 24,
      "outputs": [
        {
          "output_type": "execute_result",
          "data": {
            "text/plain": [
              "A    0.469112\n",
              "B   -0.282863\n",
              "C   -1.509059\n",
              "D   -1.135632\n",
              "Name: 0, dtype: float64"
            ]
          },
          "metadata": {
            "tags": []
          },
          "execution_count": 24
        }
      ]
    },
    {
      "cell_type": "code",
      "metadata": {
        "id": "fbFPVVrp6dpI",
        "colab_type": "code",
        "outputId": "0fe3d559-8125-4a2c-ebf7-47fb6df3bdb6",
        "colab": {
          "base_uri": "https://localhost:8080/",
          "height": 0
        }
      },
      "source": [
        "# subtract first row from every row of the DataFrame\n",
        "diff = df - s \n",
        "diff"
      ],
      "execution_count": 25,
      "outputs": [
        {
          "output_type": "execute_result",
          "data": {
            "text/plain": [
              "          A         B         C         D\n",
              "0  0.000000  0.000000  0.000000  0.000000\n",
              "1  0.743000  0.109649  1.628267  0.091396\n",
              "2 -1.330961 -1.821706  1.014129  2.207436\n",
              "3  0.252443 -0.423908  0.469484  1.407492\n",
              "4 -0.894085  0.849884  1.785291  0.048232"
            ]
          },
          "metadata": {
            "tags": []
          },
          "execution_count": 25
        }
      ]
    },
    {
      "cell_type": "code",
      "metadata": {
        "id": "t-roNH-_6lZN",
        "colab_type": "code",
        "outputId": "f55d7bec-1b30-41e4-fde7-3acbcaaf540f",
        "colab": {
          "base_uri": "https://localhost:8080/",
          "height": 0
        }
      },
      "source": [
        "# subtract DataFrame from Series\n",
        "diff2 = s - df\n",
        "diff2"
      ],
      "execution_count": 26,
      "outputs": [
        {
          "output_type": "execute_result",
          "data": {
            "text/plain": [
              "          A         B         C         D\n",
              "0  0.000000  0.000000  0.000000  0.000000\n",
              "1 -0.743000 -0.109649 -1.628267 -0.091396\n",
              "2  1.330961  1.821706 -1.014129 -2.207436\n",
              "3 -0.252443  0.423908 -0.469484 -1.407492\n",
              "4  0.894085 -0.849884 -1.785291 -0.048232"
            ]
          },
          "metadata": {
            "tags": []
          },
          "execution_count": 26
        }
      ]
    },
    {
      "cell_type": "code",
      "metadata": {
        "id": "8ZAIuewb6oVw",
        "colab_type": "code",
        "outputId": "6ed78685-0b55-4645-a00d-0ac492474fb1",
        "colab": {
          "base_uri": "https://localhost:8080/",
          "height": 0
        }
      },
      "source": [
        "# B, C\n",
        "s2 = s[1:3]\n",
        "# add E\n",
        "s2['E'] = 0\n",
        "# see how alignment is applied in math\n",
        "df + s2"
      ],
      "execution_count": 27,
      "outputs": [
        {
          "output_type": "execute_result",
          "data": {
            "text/plain": [
              "    A         B         C   D   E\n",
              "0 NaN -0.565727 -3.018117 NaN NaN\n",
              "1 NaN -0.456078 -1.389850 NaN NaN\n",
              "2 NaN -2.387433 -2.003988 NaN NaN\n",
              "3 NaN -0.989634 -2.548633 NaN NaN\n",
              "4 NaN  0.284157 -1.232826 NaN NaN"
            ]
          },
          "metadata": {
            "tags": []
          },
          "execution_count": 27
        }
      ]
    },
    {
      "cell_type": "code",
      "metadata": {
        "id": "77MCWQXN64du",
        "colab_type": "code",
        "outputId": "8e1dffc3-f294-4048-eb20-3b53ea55e61d",
        "colab": {
          "base_uri": "https://localhost:8080/",
          "height": 0
        }
      },
      "source": [
        "# get rows 1 through three, and only B, C columns\n",
        "subframe = df[1:4][['B', 'C']]\n",
        "# we have extracted a little square in the middle of df\n",
        "subframe"
      ],
      "execution_count": 28,
      "outputs": [
        {
          "output_type": "execute_result",
          "data": {
            "text/plain": [
              "          B         C\n",
              "1 -0.173215  0.119209\n",
              "2 -2.104569 -0.494929\n",
              "3 -0.706771 -1.039575"
            ]
          },
          "metadata": {
            "tags": []
          },
          "execution_count": 28
        }
      ]
    },
    {
      "cell_type": "code",
      "metadata": {
        "id": "NZngwH3G67VI",
        "colab_type": "code",
        "outputId": "a07e9ef2-8422-4888-af46-be86bca18391",
        "colab": {
          "base_uri": "https://localhost:8080/",
          "height": 0
        }
      },
      "source": [
        "# demonstrate the alignment of the subtraction\n",
        "df - subframe"
      ],
      "execution_count": 29,
      "outputs": [
        {
          "output_type": "execute_result",
          "data": {
            "text/plain": [
              "    A    B    C   D\n",
              "0 NaN  NaN  NaN NaN\n",
              "1 NaN  0.0  0.0 NaN\n",
              "2 NaN  0.0  0.0 NaN\n",
              "3 NaN  0.0  0.0 NaN\n",
              "4 NaN  NaN  NaN NaN"
            ]
          },
          "metadata": {
            "tags": []
          },
          "execution_count": 29
        }
      ]
    },
    {
      "cell_type": "code",
      "metadata": {
        "id": "tP2OghWd694Q",
        "colab_type": "code",
        "outputId": "037e9c90-d5c8-4139-ce8b-f82efe47b19f",
        "colab": {
          "base_uri": "https://localhost:8080/",
          "height": 0
        }
      },
      "source": [
        "# get the A column\n",
        "a_col = df['A']\n",
        "df.sub(a_col, axis=0)"
      ],
      "execution_count": 30,
      "outputs": [
        {
          "output_type": "execute_result",
          "data": {
            "text/plain": [
              "     A         B         C         D\n",
              "0  0.0 -0.751976 -1.978171 -1.604745\n",
              "1  0.0 -1.385327 -1.092903 -2.256348\n",
              "2  0.0 -1.242720  0.366920  1.933653\n",
              "3  0.0 -1.428326 -1.761130 -0.449695\n",
              "4  0.0  0.991993  0.701204 -0.662428"
            ]
          },
          "metadata": {
            "tags": []
          },
          "execution_count": 30
        }
      ]
    },
    {
      "cell_type": "markdown",
      "metadata": {
        "id": "4KLHPz1u7BA8",
        "colab_type": "text"
      },
      "source": [
        "Counts of values"
      ]
    },
    {
      "cell_type": "code",
      "metadata": {
        "id": "rGA6t6WE7C74",
        "colab_type": "code",
        "outputId": "ce4f3b4b-05ef-4a0e-fe96-b185fe4cbf6f",
        "colab": {
          "base_uri": "https://localhost:8080/",
          "height": 0
        }
      },
      "source": [
        "s = pd.Series(['a', 'a', 'b', 'c', np.NaN])\n",
        "# number of occurrences of each unique value\n",
        "s.count()"
      ],
      "execution_count": 31,
      "outputs": [
        {
          "output_type": "execute_result",
          "data": {
            "text/plain": [
              "4"
            ]
          },
          "metadata": {
            "tags": []
          },
          "execution_count": 31
        }
      ]
    },
    {
      "cell_type": "markdown",
      "metadata": {
        "id": "AZLda2jE7FAD",
        "colab_type": "text"
      },
      "source": [
        "Unique and number of unique values"
      ]
    },
    {
      "cell_type": "code",
      "metadata": {
        "id": "Ke-di6PB7Hm6",
        "colab_type": "code",
        "outputId": "d73eb20c-5b27-49bf-b83e-d72f61300095",
        "colab": {
          "base_uri": "https://localhost:8080/",
          "height": 0
        }
      },
      "source": [
        "# return a list of unique items\n",
        "s.unique()"
      ],
      "execution_count": 32,
      "outputs": [
        {
          "output_type": "execute_result",
          "data": {
            "text/plain": [
              "array(['a', 'b', 'c', nan], dtype=object)"
            ]
          },
          "metadata": {
            "tags": []
          },
          "execution_count": 32
        }
      ]
    },
    {
      "cell_type": "code",
      "metadata": {
        "id": "AP63-qAd7JcA",
        "colab_type": "code",
        "outputId": "77244818-655f-465f-9f69-f40d978db42d",
        "colab": {
          "base_uri": "https://localhost:8080/",
          "height": 0
        }
      },
      "source": [
        "s.nunique()"
      ],
      "execution_count": 33,
      "outputs": [
        {
          "output_type": "execute_result",
          "data": {
            "text/plain": [
              "3"
            ]
          },
          "metadata": {
            "tags": []
          },
          "execution_count": 33
        }
      ]
    },
    {
      "cell_type": "code",
      "metadata": {
        "id": "NMY7cO6U7ML8",
        "colab_type": "code",
        "outputId": "c423c456-a07f-4ab1-9016-a39874526917",
        "colab": {
          "base_uri": "https://localhost:8080/",
          "height": 0
        }
      },
      "source": [
        "s.nunique(dropna=False)"
      ],
      "execution_count": 34,
      "outputs": [
        {
          "output_type": "execute_result",
          "data": {
            "text/plain": [
              "4"
            ]
          },
          "metadata": {
            "tags": []
          },
          "execution_count": 34
        }
      ]
    },
    {
      "cell_type": "markdown",
      "metadata": {
        "id": "WnIcxlj_7RGG",
        "colab_type": "text"
      },
      "source": [
        "get summary stats on non-numeric data"
      ]
    },
    {
      "cell_type": "code",
      "metadata": {
        "id": "5oP9PwlO7Ox3",
        "colab_type": "code",
        "outputId": "e6ca7423-a363-4ca3-a7ae-b98fc0545f73",
        "colab": {
          "base_uri": "https://localhost:8080/",
          "height": 0
        }
      },
      "source": [
        "s.value_counts(dropna=False)"
      ],
      "execution_count": 35,
      "outputs": [
        {
          "output_type": "execute_result",
          "data": {
            "text/plain": [
              "a      2\n",
              "c      1\n",
              "b      1\n",
              "NaN    1\n",
              "dtype: int64"
            ]
          },
          "metadata": {
            "tags": []
          },
          "execution_count": 35
        }
      ]
    },
    {
      "cell_type": "markdown",
      "metadata": {
        "id": "vinXSIgb7alH",
        "colab_type": "text"
      },
      "source": [
        "Minimum and maximums"
      ]
    },
    {
      "cell_type": "code",
      "metadata": {
        "id": "wxuWZEGE7dFI",
        "colab_type": "code",
        "outputId": "a144a993-ad74-4b30-99ca-7a9ff1a2af3f",
        "colab": {
          "base_uri": "https://localhost:8080/",
          "height": 0
        }
      },
      "source": [
        "# location of the min price for both stocks\n",
        "omh[['MSFT', 'AAPL']].min()"
      ],
      "execution_count": 36,
      "outputs": [
        {
          "output_type": "execute_result",
          "data": {
            "text/plain": [
              "MSFT     45.16\n",
              "AAPL    106.75\n",
              "dtype: float64"
            ]
          },
          "metadata": {
            "tags": []
          },
          "execution_count": 36
        }
      ]
    },
    {
      "cell_type": "code",
      "metadata": {
        "id": "Z3v-qcjC7eR5",
        "colab_type": "code",
        "outputId": "288c30ce-2be2-45e2-ca25-6dbc2ed0c72c",
        "colab": {
          "base_uri": "https://localhost:8080/",
          "height": 0
        }
      },
      "source": [
        "# location of the max price for both stocks\n",
        "omh[['MSFT', 'AAPL']].max()"
      ],
      "execution_count": 37,
      "outputs": [
        {
          "output_type": "execute_result",
          "data": {
            "text/plain": [
              "MSFT     48.84\n",
              "AAPL    115.93\n",
              "dtype: float64"
            ]
          },
          "metadata": {
            "tags": []
          },
          "execution_count": 37
        }
      ]
    },
    {
      "cell_type": "code",
      "metadata": {
        "id": "5l-fW-d07fct",
        "colab_type": "code",
        "outputId": "00173273-29de-4821-f791-d6c79baff60c",
        "colab": {
          "base_uri": "https://localhost:8080/",
          "height": 0
        }
      },
      "source": [
        "# index of first occurrence of the min price for both stocks\n",
        "omh[['MSFT', 'AAPL']].idxmin()"
      ],
      "execution_count": 38,
      "outputs": [
        {
          "output_type": "execute_result",
          "data": {
            "text/plain": [
              "MSFT    11\n",
              "AAPL    11\n",
              "dtype: int64"
            ]
          },
          "metadata": {
            "tags": []
          },
          "execution_count": 38
        }
      ]
    },
    {
      "cell_type": "code",
      "metadata": {
        "id": "bVC2xbBa7gpm",
        "colab_type": "code",
        "outputId": "a823c5fc-e9bf-44f8-ca93-bc3fc2858c54",
        "colab": {
          "base_uri": "https://localhost:8080/",
          "height": 0
        }
      },
      "source": [
        "# index of first occurrence of the max price for both stocks\n",
        "omh[['MSFT', 'AAPL']].idxmax()"
      ],
      "execution_count": 39,
      "outputs": [
        {
          "output_type": "execute_result",
          "data": {
            "text/plain": [
              "MSFT    3\n",
              "AAPL    2\n",
              "dtype: int64"
            ]
          },
          "metadata": {
            "tags": []
          },
          "execution_count": 39
        }
      ]
    },
    {
      "cell_type": "markdown",
      "metadata": {
        "id": "hAlSyJCP8dzp",
        "colab_type": "text"
      },
      "source": [
        "Smallest and Largest Values"
      ]
    },
    {
      "cell_type": "code",
      "metadata": {
        "id": "NJ7NeM4s8mVk",
        "colab_type": "code",
        "outputId": "b72ba13b-161d-40c1-953d-c0995f987e1e",
        "colab": {
          "base_uri": "https://localhost:8080/",
          "height": 0
        }
      },
      "source": [
        "# get the 4 smallest values\n",
        "omh.nsmallest(4, ['MSFT'])['MSFT']"
      ],
      "execution_count": 40,
      "outputs": [
        {
          "output_type": "execute_result",
          "data": {
            "text/plain": [
              "11    45.16\n",
              "12    45.74\n",
              "21    46.45\n",
              "10    46.67\n",
              "Name: MSFT, dtype: float64"
            ]
          },
          "metadata": {
            "tags": []
          },
          "execution_count": 40
        }
      ]
    },
    {
      "cell_type": "code",
      "metadata": {
        "id": "lxbmKREI8m2l",
        "colab_type": "code",
        "outputId": "b6a6e237-9d30-4a38-8be3-06c567ab8ba7",
        "colab": {
          "base_uri": "https://localhost:8080/",
          "height": 0
        }
      },
      "source": [
        "# get the 4 largest values\n",
        "omh.nlargest(4, ['MSFT'])['MSFT']"
      ],
      "execution_count": 41,
      "outputs": [
        {
          "output_type": "execute_result",
          "data": {
            "text/plain": [
              "3     48.84\n",
              "0     48.62\n",
              "1     48.46\n",
              "16    48.45\n",
              "Name: MSFT, dtype: float64"
            ]
          },
          "metadata": {
            "tags": []
          },
          "execution_count": 41
        }
      ]
    },
    {
      "cell_type": "code",
      "metadata": {
        "id": "JfpwAkD-8mmg",
        "colab_type": "code",
        "outputId": "5ff14fca-38c2-421b-d717-df273c8d9eb0",
        "colab": {
          "base_uri": "https://localhost:8080/",
          "height": 0
        }
      },
      "source": [
        "# nsmallest on a Series\n",
        "omh.MSFT.nsmallest(4)"
      ],
      "execution_count": 42,
      "outputs": [
        {
          "output_type": "execute_result",
          "data": {
            "text/plain": [
              "11    45.16\n",
              "12    45.74\n",
              "21    46.45\n",
              "10    46.67\n",
              "Name: MSFT, dtype: float64"
            ]
          },
          "metadata": {
            "tags": []
          },
          "execution_count": 42
        }
      ]
    },
    {
      "cell_type": "markdown",
      "metadata": {
        "id": "D1b7uwMn8yM_",
        "colab_type": "text"
      },
      "source": [
        "Accumulations"
      ]
    },
    {
      "cell_type": "code",
      "metadata": {
        "id": "DIANoWeB81wu",
        "colab_type": "code",
        "outputId": "3d5adece-e817-49cb-8c0f-67d1debffeb1",
        "colab": {
          "base_uri": "https://localhost:8080/",
          "height": 0
        }
      },
      "source": [
        "# calculate a cumulative product\n",
        "pd.Series([1, 2, 3, 4]).cumprod()"
      ],
      "execution_count": 43,
      "outputs": [
        {
          "output_type": "execute_result",
          "data": {
            "text/plain": [
              "0     1\n",
              "1     2\n",
              "2     6\n",
              "3    24\n",
              "dtype: int64"
            ]
          },
          "metadata": {
            "tags": []
          },
          "execution_count": 43
        }
      ]
    },
    {
      "cell_type": "code",
      "metadata": {
        "id": "5an9oPAC83Gs",
        "colab_type": "code",
        "outputId": "64a7a794-78f5-4f59-e837-c275fb7fad66",
        "colab": {
          "base_uri": "https://localhost:8080/",
          "height": 0
        }
      },
      "source": [
        "# calculate a cumulative sum\n",
        "pd.Series([1, 2, 3, 4]).cumsum()"
      ],
      "execution_count": 44,
      "outputs": [
        {
          "output_type": "execute_result",
          "data": {
            "text/plain": [
              "0     1\n",
              "1     3\n",
              "2     6\n",
              "3    10\n",
              "dtype: int64"
            ]
          },
          "metadata": {
            "tags": []
          },
          "execution_count": 44
        }
      ]
    }
  ]
}
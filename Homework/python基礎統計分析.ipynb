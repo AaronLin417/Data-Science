{
  "nbformat": 4,
  "nbformat_minor": 0,
  "metadata": {
    "colab": {
      "name": "python基礎統計分析.ipynb",
      "provenance": [],
      "include_colab_link": true
    },
    "kernelspec": {
      "name": "python3",
      "display_name": "Python 3"
    }
  },
  "cells": [
    {
      "cell_type": "markdown",
      "metadata": {
        "id": "view-in-github",
        "colab_type": "text"
      },
      "source": [
        "<a href=\"https://colab.research.google.com/github/AaronLin417/Data-Science/blob/master/Homework/python%E5%9F%BA%E7%A4%8E%E7%B5%B1%E8%A8%88%E5%88%86%E6%9E%90.ipynb\" target=\"_parent\"><img src=\"https://colab.research.google.com/assets/colab-badge.svg\" alt=\"Open In Colab\"/></a>"
      ]
    },
    {
      "cell_type": "markdown",
      "metadata": {
        "id": "UIl_KAUJsSaP",
        "colab_type": "text"
      },
      "source": [
        "#python基礎統計分析\n",
        "https://github.com/HappyHackingHigh/AI4high/blob/master/DataScience/5_python%E5%9F%BA%E7%A4%8E%E7%B5%B1%E8%A8%88%E5%88%86%E6%9E%90.md"
      ]
    },
    {
      "cell_type": "markdown",
      "metadata": {
        "id": "GWfjI5FwyOZG",
        "colab_type": "text"
      },
      "source": [
        "##下載資料"
      ]
    },
    {
      "cell_type": "markdown",
      "metadata": {
        "id": "xtIGBjcApeyI",
        "colab_type": "text"
      },
      "source": [
        "標普500的資料與每月股票資料"
      ]
    },
    {
      "cell_type": "code",
      "metadata": {
        "id": "yzOVFsp9pPwt",
        "colab_type": "code",
        "colab": {
          "base_uri": "https://localhost:8080/",
          "height": 208
        },
        "outputId": "d920e42b-d16e-4b48-b305-e90a3f11c8df"
      },
      "source": [
        "!wget https://raw.githubusercontent.com/PacktPublishing/Learning-Pandas-Second-Edition/master/data/sp500.csv"
      ],
      "execution_count": 1,
      "outputs": [
        {
          "output_type": "stream",
          "text": [
            "--2019-12-10 03:13:24--  https://raw.githubusercontent.com/PacktPublishing/Learning-Pandas-Second-Edition/master/data/sp500.csv\n",
            "Resolving raw.githubusercontent.com (raw.githubusercontent.com)... 151.101.0.133, 151.101.64.133, 151.101.128.133, ...\n",
            "Connecting to raw.githubusercontent.com (raw.githubusercontent.com)|151.101.0.133|:443... connected.\n",
            "HTTP request sent, awaiting response... 200 OK\n",
            "Length: 83629 (82K) [text/plain]\n",
            "Saving to: ‘sp500.csv.2’\n",
            "\n",
            "\rsp500.csv.2           0%[                    ]       0  --.-KB/s               \rsp500.csv.2         100%[===================>]  81.67K  --.-KB/s    in 0.008s  \n",
            "\n",
            "2019-12-10 03:13:24 (10.4 MB/s) - ‘sp500.csv.2’ saved [83629/83629]\n",
            "\n"
          ],
          "name": "stdout"
        }
      ]
    },
    {
      "cell_type": "code",
      "metadata": {
        "id": "tKOYxwbPpXWh",
        "colab_type": "code",
        "colab": {
          "base_uri": "https://localhost:8080/",
          "height": 208
        },
        "outputId": "3c2634e7-b05e-42de-9d31-63520ef2bcce"
      },
      "source": [
        "!wget https://raw.githubusercontent.com/PacktPublishing/Learning-Pandas-Second-Edition/master/data/omh.csv"
      ],
      "execution_count": 2,
      "outputs": [
        {
          "output_type": "stream",
          "text": [
            "--2019-12-10 03:13:27--  https://raw.githubusercontent.com/PacktPublishing/Learning-Pandas-Second-Edition/master/data/omh.csv\n",
            "Resolving raw.githubusercontent.com (raw.githubusercontent.com)... 151.101.0.133, 151.101.64.133, 151.101.128.133, ...\n",
            "Connecting to raw.githubusercontent.com (raw.githubusercontent.com)|151.101.0.133|:443... connected.\n",
            "HTTP request sent, awaiting response... 200 OK\n",
            "Length: 539 [text/plain]\n",
            "Saving to: ‘omh.csv.2’\n",
            "\n",
            "\romh.csv.2             0%[                    ]       0  --.-KB/s               \romh.csv.2           100%[===================>]     539  --.-KB/s    in 0s      \n",
            "\n",
            "2019-12-10 03:13:27 (170 MB/s) - ‘omh.csv.2’ saved [539/539]\n",
            "\n"
          ],
          "name": "stdout"
        }
      ]
    },
    {
      "cell_type": "code",
      "metadata": {
        "id": "yTL-UaX9pkAz",
        "colab_type": "code",
        "colab": {
          "base_uri": "https://localhost:8080/",
          "height": 35
        },
        "outputId": "b7eca4c3-757a-43b2-d530-80eac048265f"
      },
      "source": [
        "#查看資料\n",
        "!ls\n",
        "#建目錄：%mkdir 目錄名稱"
      ],
      "execution_count": 3,
      "outputs": [
        {
          "output_type": "stream",
          "text": [
            "omh.csv  omh.csv.1  omh.csv.2  sample_data  sp500.csv  sp500.csv.1  sp500.csv.2\n"
          ],
          "name": "stdout"
        }
      ]
    },
    {
      "cell_type": "code",
      "metadata": {
        "id": "CIBgtcp2psR0",
        "colab_type": "code",
        "colab": {}
      },
      "source": [
        "# -*- coding: utf-8 -*-\n",
        "import numpy as np\n",
        "import pandas as pd\n",
        "\n",
        "# used for dates\n",
        "import datetime\n",
        "from datetime import datetime, date\n",
        "\n",
        "# Set formattign options\n",
        "pd.set_option('display.notebook_repr_html', False)\n",
        "pd.set_option('display.max_columns', 7)\n",
        "pd.set_option('display.max_rows', 10)\n",
        "pd.set_option('display.width', 60)\n",
        "\n",
        "# bring in matplotlib for graphics\n",
        "import matplotlib.pyplot as plt\n",
        "# %matplotlib inline"
      ],
      "execution_count": 0,
      "outputs": []
    },
    {
      "cell_type": "code",
      "metadata": {
        "id": "UtMCjOi4ryG6",
        "colab_type": "code",
        "colab": {
          "base_uri": "https://localhost:8080/",
          "height": 277
        },
        "outputId": "d66dd16d-7d49-44d5-aca7-04168d3c0233"
      },
      "source": [
        "# read in the data and print the first five rows\n",
        "# use the Symbol column as the index, and only read in columns in positions 0, 2, 3, 7\n",
        "sp500 = pd.read_csv(\"sp500.csv\", \n",
        "                    index_col='Symbol', \n",
        "                    usecols=[0, 2, 3, 7])\n",
        "sp500"
      ],
      "execution_count": 5,
      "outputs": [
        {
          "output_type": "execute_result",
          "data": {
            "text/plain": [
              "                        Sector   Price  Book Value\n",
              "Symbol                                            \n",
              "MMM                Industrials  141.14      26.668\n",
              "ABT                Health Care   39.60      15.573\n",
              "ABBV               Health Care   53.95       2.954\n",
              "ACN     Information Technology   79.79       8.326\n",
              "ACE                 Financials  102.91      86.897\n",
              "...                        ...     ...         ...\n",
              "YHOO    Information Technology   35.02      12.768\n",
              "YUM     Consumer Discretionary   74.77       5.147\n",
              "ZMH                Health Care  101.84      37.181\n",
              "ZION                Financials   28.43      30.191\n",
              "ZTS                Health Care   30.53       2.150\n",
              "\n",
              "[500 rows x 3 columns]"
            ]
          },
          "metadata": {
            "tags": []
          },
          "execution_count": 5
        }
      ]
    },
    {
      "cell_type": "code",
      "metadata": {
        "id": "ugZrFo5Yr0T2",
        "colab_type": "code",
        "colab": {
          "base_uri": "https://localhost:8080/",
          "height": 260
        },
        "outputId": "6ac9b172-e32d-4a09-94cc-4b9a76550413"
      },
      "source": [
        "# one month of stock history data\n",
        "omh = pd.read_csv(\"omh.csv\")\n",
        "omh"
      ],
      "execution_count": 6,
      "outputs": [
        {
          "output_type": "execute_result",
          "data": {
            "text/plain": [
              "          Date   MSFT    AAPL\n",
              "0   2014-12-01  48.62  115.07\n",
              "1   2014-12-02  48.46  114.63\n",
              "2   2014-12-03  48.08  115.93\n",
              "3   2014-12-04  48.84  115.49\n",
              "4   2014-12-05  48.42  115.00\n",
              "..         ...    ...     ...\n",
              "17  2014-12-24  48.14  112.01\n",
              "18  2014-12-26  47.88  113.99\n",
              "19  2014-12-29  47.45  113.91\n",
              "20  2014-12-30  47.02  112.52\n",
              "21  2014-12-31  46.45  110.38\n",
              "\n",
              "[22 rows x 3 columns]"
            ]
          },
          "metadata": {
            "tags": []
          },
          "execution_count": 6
        }
      ]
    },
    {
      "cell_type": "markdown",
      "metadata": {
        "id": "jcA7AY8pzczz",
        "colab_type": "text"
      },
      "source": [
        "##描述統計學descriptive statistics"
      ]
    },
    {
      "cell_type": "markdown",
      "metadata": {
        "id": "LrnnmGKczgVZ",
        "colab_type": "text"
      },
      "source": [
        "get summary statistics for the stock data"
      ]
    },
    {
      "cell_type": "code",
      "metadata": {
        "id": "HQG4qvXVscGM",
        "colab_type": "code",
        "colab": {
          "base_uri": "https://localhost:8080/",
          "height": 173
        },
        "outputId": "14fb7c5d-9dda-43ad-9a03-1af9bab64910"
      },
      "source": [
        "omh.describe()"
      ],
      "execution_count": 7,
      "outputs": [
        {
          "output_type": "execute_result",
          "data": {
            "text/plain": [
              "            MSFT        AAPL\n",
              "count  22.000000   22.000000\n",
              "mean   47.493182  112.411364\n",
              "std     0.933077    2.388772\n",
              "min    45.160000  106.750000\n",
              "25%    46.967500  111.660000\n",
              "50%    47.625000  112.530000\n",
              "75%    48.125000  114.087500\n",
              "max    48.840000  115.930000"
            ]
          },
          "metadata": {
            "tags": []
          },
          "execution_count": 7
        }
      ]
    },
    {
      "cell_type": "markdown",
      "metadata": {
        "id": "vi3huDp1zjcj",
        "colab_type": "text"
      },
      "source": [
        "just the stats for MSFT"
      ]
    },
    {
      "cell_type": "code",
      "metadata": {
        "id": "8JFCjzAhzmVP",
        "colab_type": "code",
        "colab": {
          "base_uri": "https://localhost:8080/",
          "height": 173
        },
        "outputId": "3cb21ef6-4583-436a-9d6d-eb51aeef4602"
      },
      "source": [
        "omh.MSFT.describe()"
      ],
      "execution_count": 8,
      "outputs": [
        {
          "output_type": "execute_result",
          "data": {
            "text/plain": [
              "count    22.000000\n",
              "mean     47.493182\n",
              "std       0.933077\n",
              "min      45.160000\n",
              "25%      46.967500\n",
              "50%      47.625000\n",
              "75%      48.125000\n",
              "max      48.840000\n",
              "Name: MSFT, dtype: float64"
            ]
          },
          "metadata": {
            "tags": []
          },
          "execution_count": 8
        }
      ]
    },
    {
      "cell_type": "markdown",
      "metadata": {
        "id": "XxtoDTD1zpH9",
        "colab_type": "text"
      },
      "source": [
        "only the mean for MSFT"
      ]
    },
    {
      "cell_type": "code",
      "metadata": {
        "id": "AHx3TfRZzvFN",
        "colab_type": "code",
        "colab": {
          "base_uri": "https://localhost:8080/",
          "height": 35
        },
        "outputId": "e9e776e7-9ad3-4d72-cea9-80f490ac5375"
      },
      "source": [
        "omh.MSFT.describe()['mean']"
      ],
      "execution_count": 9,
      "outputs": [
        {
          "output_type": "execute_result",
          "data": {
            "text/plain": [
              "47.49318181818182"
            ]
          },
          "metadata": {
            "tags": []
          },
          "execution_count": 9
        }
      ]
    },
    {
      "cell_type": "markdown",
      "metadata": {
        "id": "ovlzjBhzzxVF",
        "colab_type": "text"
      },
      "source": [
        "get summary stats on non-numeric data"
      ]
    },
    {
      "cell_type": "code",
      "metadata": {
        "id": "az7tl7xmzzB0",
        "colab_type": "code",
        "colab": {
          "base_uri": "https://localhost:8080/",
          "height": 104
        },
        "outputId": "22fa287d-d800-48b7-9b25-90c1618f8991"
      },
      "source": [
        "s = pd.Series(['a', 'a', 'b', 'c', np.NaN])\n",
        "s.describe()"
      ],
      "execution_count": 10,
      "outputs": [
        {
          "output_type": "execute_result",
          "data": {
            "text/plain": [
              "count     4\n",
              "unique    3\n",
              "top       a\n",
              "freq      2\n",
              "dtype: object"
            ]
          },
          "metadata": {
            "tags": []
          },
          "execution_count": 10
        }
      ]
    },
    {
      "cell_type": "markdown",
      "metadata": {
        "id": "DhVSiZ45z3mo",
        "colab_type": "text"
      },
      "source": [
        "##集中趨勢"
      ]
    },
    {
      "cell_type": "markdown",
      "metadata": {
        "id": "W7UXVcjzz9Ft",
        "colab_type": "text"
      },
      "source": [
        "Mean平均值"
      ]
    },
    {
      "cell_type": "code",
      "metadata": {
        "id": "VCIDygYIz7G6",
        "colab_type": "code",
        "colab": {
          "base_uri": "https://localhost:8080/",
          "height": 69
        },
        "outputId": "ddb97718-d5da-470f-a42c-041d3954c3e8"
      },
      "source": [
        "# the mean of all the columns in omh\n",
        "omh.mean()"
      ],
      "execution_count": 11,
      "outputs": [
        {
          "output_type": "execute_result",
          "data": {
            "text/plain": [
              "MSFT     47.493182\n",
              "AAPL    112.411364\n",
              "dtype: float64"
            ]
          },
          "metadata": {
            "tags": []
          },
          "execution_count": 11
        }
      ]
    },
    {
      "cell_type": "code",
      "metadata": {
        "id": "q7pmIbgb0DTV",
        "colab_type": "code",
        "colab": {
          "base_uri": "https://localhost:8080/",
          "height": 121
        },
        "outputId": "9e3aa64a-0517-496a-e42c-015a92dfb018"
      },
      "source": [
        "# calc the mean of the values in each row\n",
        "omh.mean(axis=1)[:5]"
      ],
      "execution_count": 12,
      "outputs": [
        {
          "output_type": "execute_result",
          "data": {
            "text/plain": [
              "0    81.845\n",
              "1    81.545\n",
              "2    82.005\n",
              "3    82.165\n",
              "4    81.710\n",
              "dtype: float64"
            ]
          },
          "metadata": {
            "tags": []
          },
          "execution_count": 12
        }
      ]
    },
    {
      "cell_type": "markdown",
      "metadata": {
        "id": "sw2uIdsf0GXZ",
        "colab_type": "text"
      },
      "source": [
        "Median中位數"
      ]
    },
    {
      "cell_type": "code",
      "metadata": {
        "id": "R1arFjLU0Hza",
        "colab_type": "code",
        "colab": {
          "base_uri": "https://localhost:8080/",
          "height": 69
        },
        "outputId": "d03833b3-efac-4203-a5b5-7fe01151053f"
      },
      "source": [
        "# calc the median of the values in each column\n",
        "omh.median()"
      ],
      "execution_count": 13,
      "outputs": [
        {
          "output_type": "execute_result",
          "data": {
            "text/plain": [
              "MSFT     47.625\n",
              "AAPL    112.530\n",
              "dtype: float64"
            ]
          },
          "metadata": {
            "tags": []
          },
          "execution_count": 13
        }
      ]
    },
    {
      "cell_type": "markdown",
      "metadata": {
        "id": "tiI3-RqU0KOz",
        "colab_type": "text"
      },
      "source": [
        "Mode眾數"
      ]
    },
    {
      "cell_type": "code",
      "metadata": {
        "id": "OIM-pFVo0Lpl",
        "colab_type": "code",
        "colab": {
          "base_uri": "https://localhost:8080/",
          "height": 52
        },
        "outputId": "71d5515f-d71e-408d-a2ce-bcebde9d5264"
      },
      "source": [
        "# find the mode of this Series\n",
        "s = pd.Series([1, 2, 3, 3, 5])\n",
        "s.mode()"
      ],
      "execution_count": 14,
      "outputs": [
        {
          "output_type": "execute_result",
          "data": {
            "text/plain": [
              "0    3\n",
              "dtype: int64"
            ]
          },
          "metadata": {
            "tags": []
          },
          "execution_count": 14
        }
      ]
    },
    {
      "cell_type": "code",
      "metadata": {
        "id": "KQBwX1tr0NNC",
        "colab_type": "code",
        "colab": {
          "base_uri": "https://localhost:8080/",
          "height": 69
        },
        "outputId": "4d7f783b-d9ee-43be-ef3b-e32b69579b20"
      },
      "source": [
        "# there can be more than one mode\n",
        "s = pd.Series([1, 2, 3, 3, 5, 1])\n",
        "s.mode()"
      ],
      "execution_count": 15,
      "outputs": [
        {
          "output_type": "execute_result",
          "data": {
            "text/plain": [
              "0    1\n",
              "1    3\n",
              "dtype: int64"
            ]
          },
          "metadata": {
            "tags": []
          },
          "execution_count": 15
        }
      ]
    },
    {
      "cell_type": "markdown",
      "metadata": {
        "id": "xwzcfdRx0QlP",
        "colab_type": "text"
      },
      "source": [
        "##離散趨勢"
      ]
    },
    {
      "cell_type": "markdown",
      "metadata": {
        "id": "RCFEHo4Q0T61",
        "colab_type": "text"
      },
      "source": [
        "Variance變異數"
      ]
    },
    {
      "cell_type": "code",
      "metadata": {
        "id": "VtR5j6_-0TUP",
        "colab_type": "code",
        "colab": {
          "base_uri": "https://localhost:8080/",
          "height": 69
        },
        "outputId": "ce0d87cd-6df7-452e-8ac4-1c23b5a4d2c4"
      },
      "source": [
        "# calc the variance of the values in each column\n",
        "omh.var()"
      ],
      "execution_count": 16,
      "outputs": [
        {
          "output_type": "execute_result",
          "data": {
            "text/plain": [
              "MSFT    0.870632\n",
              "AAPL    5.706231\n",
              "dtype: float64"
            ]
          },
          "metadata": {
            "tags": []
          },
          "execution_count": 16
        }
      ]
    },
    {
      "cell_type": "markdown",
      "metadata": {
        "id": "NKTLtGBD0aCL",
        "colab_type": "text"
      },
      "source": [
        "Standard Deviation標準差"
      ]
    },
    {
      "cell_type": "code",
      "metadata": {
        "id": "w3H9ETIe0cDQ",
        "colab_type": "code",
        "colab": {
          "base_uri": "https://localhost:8080/",
          "height": 69
        },
        "outputId": "256fe4ba-2fc2-4653-932a-2fd3a9daf977"
      },
      "source": [
        "omh.std()"
      ],
      "execution_count": 17,
      "outputs": [
        {
          "output_type": "execute_result",
          "data": {
            "text/plain": [
              "MSFT    0.933077\n",
              "AAPL    2.388772\n",
              "dtype: float64"
            ]
          },
          "metadata": {
            "tags": []
          },
          "execution_count": 17
        }
      ]
    },
    {
      "cell_type": "markdown",
      "metadata": {
        "id": "1_pl1IqS0eJ9",
        "colab_type": "text"
      },
      "source": [
        "Covariance共變數"
      ]
    },
    {
      "cell_type": "code",
      "metadata": {
        "id": "JYZApv5D0gas",
        "colab_type": "code",
        "colab": {
          "base_uri": "https://localhost:8080/",
          "height": 35
        },
        "outputId": "ee506641-ce31-49c3-a9ac-1715c9b6ee2e"
      },
      "source": [
        "#Cov(x,y) = SUM [(xi - μx) * (yi - μy)] / (n - 1)\n",
        "# covariance of MSFT vs AAPL\n",
        "omh.MSFT.cov(omh.AAPL)"
      ],
      "execution_count": 18,
      "outputs": [
        {
          "output_type": "execute_result",
          "data": {
            "text/plain": [
              "1.9261240259740264"
            ]
          },
          "metadata": {
            "tags": []
          },
          "execution_count": 18
        }
      ]
    },
    {
      "cell_type": "markdown",
      "metadata": {
        "id": "O67aal1b0ytu",
        "colab_type": "text"
      },
      "source": [
        "##隨堂測驗"
      ]
    },
    {
      "cell_type": "code",
      "metadata": {
        "id": "iJwADgtf07Ng",
        "colab_type": "code",
        "colab": {}
      },
      "source": [
        "A = pd.Series([60,59,61,62,58,60])\n",
        "B = pd.Series([60,54,66,71,49,60])"
      ],
      "execution_count": 0,
      "outputs": []
    },
    {
      "cell_type": "code",
      "metadata": {
        "id": "46VU0P181GAl",
        "colab_type": "code",
        "colab": {
          "base_uri": "https://localhost:8080/",
          "height": 173
        },
        "outputId": "6c6386e4-ca21-404c-eb08-a009efd78320"
      },
      "source": [
        "A.describe()"
      ],
      "execution_count": 20,
      "outputs": [
        {
          "output_type": "execute_result",
          "data": {
            "text/plain": [
              "count     6.000000\n",
              "mean     60.000000\n",
              "std       1.414214\n",
              "min      58.000000\n",
              "25%      59.250000\n",
              "50%      60.000000\n",
              "75%      60.750000\n",
              "max      62.000000\n",
              "dtype: float64"
            ]
          },
          "metadata": {
            "tags": []
          },
          "execution_count": 20
        }
      ]
    },
    {
      "cell_type": "code",
      "metadata": {
        "id": "brpnqsOH1J9h",
        "colab_type": "code",
        "colab": {
          "base_uri": "https://localhost:8080/",
          "height": 173
        },
        "outputId": "f98b4edf-42b2-4b10-c16e-5f433b179e6f"
      },
      "source": [
        "B.describe()"
      ],
      "execution_count": 21,
      "outputs": [
        {
          "output_type": "execute_result",
          "data": {
            "text/plain": [
              "count     6.000000\n",
              "mean     60.000000\n",
              "std       7.924645\n",
              "min      49.000000\n",
              "25%      55.500000\n",
              "50%      60.000000\n",
              "75%      64.500000\n",
              "max      71.000000\n",
              "dtype: float64"
            ]
          },
          "metadata": {
            "tags": []
          },
          "execution_count": 21
        }
      ]
    }
  ]
}